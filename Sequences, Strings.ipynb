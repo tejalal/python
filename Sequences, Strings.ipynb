{
 "cells": [
  {
   "cell_type": "markdown",
   "metadata": {},
   "source": [
    "# Sequences\n",
    "- In Python, sequence is the generic term for an ordered set. \n",
    "- There are several types of sequences in Python, the following three are the most important."
   ]
  },
  {
   "cell_type": "markdown",
   "metadata": {},
   "source": [
    "### Strings\n",
    "- Strings are a special type of sequence that can only store characters, \n",
    "- and they have a special notation. \n",
    "- However, all of the sequence operations can also be used on strings. \n",
    "\n",
    "### Lists\n",
    "- Lists are the most versatile sequence type. \n",
    "- The elements of a list can be any object, \n",
    "- Lists are mutable - they can be changed. \n",
    "- Elements can be reassigned or removed, and new elements can be inserted.\n",
    "\n",
    "### Tuples\n",
    "- Tuples are like lists, but they are immutable - they can't be changed.\n",
    "- Once you have set a tuple, there is no way to change it\n",
    "- you cannot add, change, or remove elements of a tuple. \n"
   ]
  },
  {
   "cell_type": "markdown",
   "metadata": {},
   "source": [
    "### Operations\n",
    "- Concatenation and repetition\n",
    "- Membership testing\n",
    "- Indexing a sequence\n",
    "- Slicing a sequence"
   ]
  },
  {
   "cell_type": "markdown",
   "metadata": {},
   "source": [
    "# Working with Strings\n",
    "String objects are immutable, so attempting to rebind or delete an item or slice of a string raises an exception. "
   ]
  },
  {
   "cell_type": "code",
   "execution_count": 1,
   "metadata": {
    "scrolled": false
   },
   "outputs": [
    {
     "name": "stdout",
     "output_type": "stream",
     "text": [
      "This is a string\n",
      " This is another string\n",
      "This is a string This is another string\n",
      "This is a stringThis is a string\n"
     ]
    }
   ],
   "source": [
    "string1 = \"This is a string\"\n",
    "string2 = ' This is another string'\n",
    "\n",
    "print(string1)\n",
    "print(string2)\n",
    "print(string1+string2) #concatenation\n",
    "print(string1*2) # repetition"
   ]
  },
  {
   "cell_type": "code",
   "execution_count": 2,
   "metadata": {},
   "outputs": [
    {
     "name": "stdout",
     "output_type": "stream",
     "text": [
      "True\n"
     ]
    }
   ],
   "source": [
    "string3 = \"I love my country\"\n",
    "subtring=\"love\"\n",
    "result=subtring in string3\n",
    "print(result)"
   ]
  },
  {
   "cell_type": "code",
   "execution_count": 3,
   "metadata": {},
   "outputs": [
    {
     "name": "stdout",
     "output_type": "stream",
     "text": [
      "False\n"
     ]
    }
   ],
   "source": [
    "string3 = \"I love my country\"\n",
    "subtring=\"love\"\n",
    "result=subtring not in string3\n",
    "print(result)"
   ]
  },
  {
   "cell_type": "code",
   "execution_count": 4,
   "metadata": {},
   "outputs": [
    {
     "name": "stdout",
     "output_type": "stream",
     "text": [
      "Strings can only store characters\n",
      "S\n",
      "s\n",
      "r\n"
     ]
    }
   ],
   "source": [
    "string4 = \"Strings can only store characters\"\n",
    "print(string4)\n",
    "print(string4[0])\n",
    "print(string4[6])\n",
    "print(string4[-2])"
   ]
  },
  {
   "cell_type": "code",
   "execution_count": 5,
   "metadata": {},
   "outputs": [
    {
     "name": "stdout",
     "output_type": "stream",
     "text": [
      "Strings can only store characters\n",
      "rin\n",
      "Strings can only store characters\n",
      "rings can only store characters\n",
      "Strings can only store characters\n",
      "Strings can only store c\n",
      "t\n",
      "Srnscnol tr hrces\n",
      "secrh rt loncsnrS\n"
     ]
    }
   ],
   "source": [
    "string5 = \"Strings can only store characters\"\n",
    "print(string5)\n",
    "print(string5[2:5])\n",
    "print(string5[0:])\n",
    "print(string5[2:])\n",
    "print(string5[:])\n",
    "print(string5[:-9])\n",
    "print(string5[-4])\n",
    "print(string5[::2])\n",
    "print(string5[::-2])\n"
   ]
  },
  {
   "cell_type": "markdown",
   "metadata": {},
   "source": [
    "#### Useful Functions\n",
    "\n",
    "Most of these functions will work on any type of sequence\n",
    "\n",
    "- len(s) returns the number of characters in the string s.\n",
    "- title() Captalize the each starting character of a word\n",
    "- capatalize() capatalize the starting character of a sentence.\n",
    "- s.lower() returns a copy of s, but with all uppercase characters converted to lowercase.\n",
    "- s.upper() returns a copy of s with all lowercase characters converted to uppercase.\n",
    "- s.split([sep]) returns a list whose elements are the words in the string. The parameter sep is optional, by default strings are split on all whitespace (spaces, tabs, newlines). For example, 'To be, or not to be.'.split() will evaluate to ['To', 'be,', 'or', 'not', 'to', 'be.']. Note that split doesn't remove punctuation.\n",
    "\n",
    "#### Searching\n",
    "\n",
    "- s.index(x) returns the index of the first occurrence of the substring x in s. If x isn't a substring an error is thrown.\n",
    "- s.find(x) does the same thing as index, but returns -1 if x isn't a substring, rather than throwing an error.\n",
    "- s.rindex(x) and s.rfind(x) (short for right index and right find) return the last occurrence of the substring x in s.\n",
    "- s.count(x) returns the number of times the substring x appears in s. Note that it only counts non-overlapping occurrences, so '000000'.count('000') will return 2.\n",
    "- s.replace(x, y) replaces every occurrence of the substring x in s with y. For example, 'batCatRat'.replace('at', 'oy') will return 'boyCoyRoy'.\n",
    "- startswith(substring), returns True if the string starts with given subtstring\n",
    "- endswith(substring), return True if the string ends with given subtstring\n",
    "\n",
    "#### Stripping\n",
    "\n",
    "- s.strip() returns s, but with any trailing whitespace removed. This is sometimes useful when working with files.\n",
    "- s.lstrip(), l.rstrip() returns s, but with any starting and ending whitespace removed respectively."
   ]
  },
  {
   "cell_type": "code",
   "execution_count": 6,
   "metadata": {
    "scrolled": false
   },
   "outputs": [
    {
     "name": "stdout",
     "output_type": "stream",
     "text": [
      "This is an example of string variable \n",
      "This is an\n",
      "example of string\n",
      "variable \n",
      "i have so many frieds at my school\n"
     ]
    }
   ],
   "source": [
    "# string values are enclosed between triple quotes like \"\"\" your string \"\"\" and do the following\n",
    "# Display the string stored in variable.\n",
    "# Split the same string to print each word on new liine without using any \\n\n",
    "# Create another normal string variable in which the string is spanned over multiple lines withot using \"\"\" \"\"\" and \\n\n",
    "\n",
    "name=\"\"\"This is an example of string variable \"\"\"\n",
    "print(name)\n",
    "name=\"\"\"This is an\n",
    "example of string\n",
    "variable \"\"\"\n",
    "print(name)\n",
    "name2='i have so \\\n",
    "many frieds \\\n",
    "at my school'\n",
    "print(name2)"
   ]
  },
  {
   "cell_type": "code",
   "execution_count": 7,
   "metadata": {},
   "outputs": [
    {
     "name": "stdout",
     "output_type": "stream",
     "text": [
      "Enter string to be cheked: india\n",
      "Entered string is not palindrome\n"
     ]
    }
   ],
   "source": [
    "# string palindrome\n",
    "str1 = input(\"Enter string to be cheked: \")\n",
    "str1 = str1.casefold() # make it suitable for caseless comparison\n",
    "rev = reversed(str1) # reverse the string\n",
    "if list(str1) == list(rev):\n",
    "   print(\"Entered string is palindrome\")\n",
    "else:\n",
    "   print(\"Entered string is not palindrome\")"
   ]
  },
  {
   "cell_type": "code",
   "execution_count": 8,
   "metadata": {},
   "outputs": [
    {
     "name": "stdout",
     "output_type": "stream",
     "text": [
      "Enter any string: india\n",
      "First character i has occured 2 times in the string\n"
     ]
    }
   ],
   "source": [
    "# frequency of first character\n",
    "str1=input(\"Enter any string: \")\n",
    "first=str1[0]\n",
    "count=0\n",
    "for ch in str1:\n",
    "    if ch==first:\n",
    "        count+=1\n",
    "print('First character',first, 'has occured',count, 'times in the string')"
   ]
  },
  {
   "cell_type": "code",
   "execution_count": 11,
   "metadata": {},
   "outputs": [
    {
     "name": "stdout",
     "output_type": "stream",
     "text": [
      "Enter any string: india\n",
      "$nd$a\n"
     ]
    }
   ],
   "source": [
    "# repalace first character\n",
    "str1=input(\"Enter any string: \")\n",
    "first=str1[0]\n",
    "str1=str1.replace(first,'$')\n",
    "print(str1)"
   ]
  },
  {
   "cell_type": "code",
   "execution_count": 10,
   "metadata": {},
   "outputs": [
    {
     "name": "stdout",
     "output_type": "stream",
     "text": [
      "Remove trailing white space: india\n",
      "Remove leading white space: India\n",
      "Remove both leading and trailing white space: Bharat\n"
     ]
    }
   ],
   "source": [
    "university1=\"india \"\n",
    "university2=\" India\"\n",
    "university3=\" Bharat \"\n",
    "print(\"Remove trailing white space:\",university1.rstrip())\n",
    "print(\"Remove leading white space:\",university2.lstrip())\n",
    "print(\"Remove both leading and trailing white space:\",university3.strip())"
   ]
  },
  {
   "cell_type": "code",
   "execution_count": 12,
   "metadata": {},
   "outputs": [
    {
     "name": "stdout",
     "output_type": "stream",
     "text": [
      "Enter any string: how are you\n",
      "Length of the string is:  11\n",
      "Uppercase:  HOW ARE YOU\n",
      "Lowercase:  how are you\n",
      "Split: ['how', 'are', 'you']\n"
     ]
    }
   ],
   "source": [
    "# write your code after this line\n",
    "str1=input(\"Enter any string: \")\n",
    "print(\"Length of the string is: \",len(str1))\n",
    "print(\"Uppercase: \",str1.upper())\n",
    "print(\"Lowercase: \",str1.lower())\n",
    "print(\"Split:\",str1.split(' '))"
   ]
  },
  {
   "cell_type": "code",
   "execution_count": 13,
   "metadata": {},
   "outputs": [
    {
     "name": "stdout",
     "output_type": "stream",
     "text": [
      "Enter any string: how are you\n",
      "Index of  h is : 0\n",
      "find()  h is : 0\n",
      "rindex() h is : 0\n",
      "rfind() h is : 0\n",
      "count() h is : 1\n",
      "rindex() h is : #ow are you\n"
     ]
    }
   ],
   "source": [
    "# Apply index(s),find(x), rindex(s), rfind(), count(x) and replace(x,y) functions on string\n",
    "# write your code after this line\n",
    "str1=input(\"Enter any string: \")\n",
    "s='h'\n",
    "print('Index of ', s, 'is :', str1.index(s))\n",
    "print('find() ', s, 'is :', str1.find(s))\n",
    "print('rindex()', s, 'is :', str1.rindex(s))\n",
    "print('rfind()', s, 'is :', str1.rfind(s))\n",
    "print('count()', s, 'is :', str1.count(s))\n",
    "print('rindex()', s, 'is :', str1.replace(s,'#'))"
   ]
  },
  {
   "cell_type": "code",
   "execution_count": 15,
   "metadata": {},
   "outputs": [
    {
     "name": "stdout",
     "output_type": "stream",
     "text": [
      "India Is Great\n",
      "India is great\n"
     ]
    }
   ],
   "source": [
    "# write your code after this line\n",
    "s=\"india is great\"\n",
    "print(s.title())\n",
    "print(s.capitalize())"
   ]
  },
  {
   "cell_type": "code",
   "execution_count": 16,
   "metadata": {
    "scrolled": true
   },
   "outputs": [
    {
     "name": "stdout",
     "output_type": "stream",
     "text": [
      "True\n",
      "True\n"
     ]
    }
   ],
   "source": [
    "s=\"india is great\"\n",
    "print(s.endswith('great'))\n",
    "print(s.startswith('india'))"
   ]
  },
  {
   "cell_type": "code",
   "execution_count": 17,
   "metadata": {},
   "outputs": [
    {
     "name": "stdout",
     "output_type": "stream",
     "text": [
      "Enter a string: how are you\n",
      "The sorted words are:\n",
      "are\n",
      "how\n",
      "you\n"
     ]
    }
   ],
   "source": [
    "str1 = input(\"Enter a string: \")\n",
    "words = str1.split() # split the string into words\n",
    "words.sort() # sort the list\n",
    "print(\"The sorted words are:\")\n",
    "for word in words:\n",
    "    print(word)"
   ]
  },
  {
   "cell_type": "code",
   "execution_count": 18,
   "metadata": {},
   "outputs": [
    {
     "name": "stdout",
     "output_type": "stream",
     "text": [
      "Number of characters= 35\n",
      "Number of spaces= 8\n",
      "Number of digits= 7\n"
     ]
    }
   ],
   "source": [
    "# count number of digits, blank spaces, characters present in below string. \n",
    "# isspace(), isdigit(), isalpha()\n",
    "name=\"This string contains 4564 some spaces and some 345\"\n",
    "ch=0\n",
    "sp=0\n",
    "digit=0\n",
    "for i in name:\n",
    "    if i.isdigit():\n",
    "        digit+=1\n",
    "    elif i.isspace():\n",
    "        sp+=1\n",
    "    elif i.isalpha():\n",
    "        ch+=1\n",
    "    else:\n",
    "        print(\"Un defiined\")\n",
    "print(\"Number of characters=\",ch)\n",
    "print(\"Number of spaces=\", sp)\n",
    "print(\"Number of digits=\", digit)"
   ]
  },
  {
   "cell_type": "code",
   "execution_count": 19,
   "metadata": {},
   "outputs": [
    {
     "name": "stdout",
     "output_type": "stream",
     "text": [
      "Enter string with punctuations: hello! _how $are you?? #\n",
      "String without punctuans is : hello how are you \n"
     ]
    }
   ],
   "source": [
    "punctuations = '''!()-[]{};:'\"\\,<>./?@#$%^&*_~'''\n",
    "str1 = input(\"Enter string with punctuations: \")\n",
    "str_without_punct = \"\"\n",
    "for char in str1:\n",
    "    if char not in punctuations:\n",
    "        str_without_punct = str_without_punct + char\n",
    "print(\"String without punctuans is :\", str_without_punct)"
   ]
  },
  {
   "cell_type": "code",
   "execution_count": null,
   "metadata": {
    "collapsed": true
   },
   "outputs": [],
   "source": []
  }
 ],
 "metadata": {
  "kernelspec": {
   "display_name": "Python 3",
   "language": "python",
   "name": "python3"
  },
  "language_info": {
   "codemirror_mode": {
    "name": "ipython",
    "version": 3
   },
   "file_extension": ".py",
   "mimetype": "text/x-python",
   "name": "python",
   "nbconvert_exporter": "python",
   "pygments_lexer": "ipython3",
   "version": "3.8.8"
  }
 },
 "nbformat": 4,
 "nbformat_minor": 2
}
