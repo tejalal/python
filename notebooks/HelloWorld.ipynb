{
 "cells": [
  {
   "cell_type": "markdown",
   "metadata": {},
   "source": [
    "# Printing data"
   ]
  },
  {
   "cell_type": "markdown",
   "metadata": {
    "collapsed": true
   },
   "source": [
    "- **print()** function is used to display output\n",
    "- It can be used used to display any type of data like constants, strings, variables etc.\n",
    "- The simplest form of print() function is:\n",
    "- **print(string/variable/constant)**"
   ]
  },
  {
   "cell_type": "markdown",
   "metadata": {},
   "source": [
    "## Hello World Program\n",
    "Hello World! program in Python is the samllest program you would have ever seen in any programmig language"
   ]
  },
  {
   "cell_type": "code",
   "execution_count": 3,
   "metadata": {},
   "outputs": [
    {
     "name": "stdout",
     "output_type": "stream",
     "text": [
      "Hello World\n"
     ]
    }
   ],
   "source": [
    "print(\"Hello World\")"
   ]
  },
  {
   "cell_type": "markdown",
   "metadata": {},
   "source": [
    "### Below are the some of the various ways in which print() can be used"
   ]
  },
  {
   "cell_type": "code",
   "execution_count": 13,
   "metadata": {
    "scrolled": true
   },
   "outputs": [
    {
     "name": "stdout",
     "output_type": "stream",
     "text": [
      "Hello World\n",
      "Hello World\n",
      "Hello World Hello World\n",
      "Hello World Hello World\n"
     ]
    }
   ],
   "source": [
    "print(\"Hello World\")\n",
    "print('Hello World')\n",
    "print('Hello World', 'Hello World')\n",
    "print(\"Hello World\", \"Hello World\")"
   ]
  },
  {
   "cell_type": "markdown",
   "metadata": {},
   "source": [
    "#### We can use plus (+) to combine strings\n",
    "#### We can use both single quotes ' ' and double quotes \" \" to print strings"
   ]
  },
  {
   "cell_type": "code",
   "execution_count": 9,
   "metadata": {
    "scrolled": true
   },
   "outputs": [
    {
     "name": "stdout",
     "output_type": "stream",
     "text": [
      "I am from INDIA\n",
      "I love INDIA\n",
      "I love INDIA\n",
      "My state name is : MP\n"
     ]
    }
   ],
   "source": [
    "print('I am from INDIA')\n",
    "print(\"I love INDIA\")\n",
    "print(\"I love \" + 'INDIA')\n",
    "print(\"My state name is : \" + \"MP\")"
   ]
  },
  {
   "cell_type": "markdown",
   "metadata": {},
   "source": [
    "#### We can assign string and numbers to variales and can print the variable as shown in below program\n",
    "#### We can use comma to seperate the variables and strings in print() function\n",
    "#### Integer variables can not be printed using plus, instead we need to use comma"
   ]
  },
  {
   "cell_type": "code",
   "execution_count": 10,
   "metadata": {},
   "outputs": [
    {
     "name": "stdout",
     "output_type": "stream",
     "text": [
      "I am from INDIA\n",
      "I love INDIA\n",
      "I love INDIA\n",
      "My state name is : MP\n",
      "Sachin is 18 year old\n",
      "Yeah me too.!\n"
     ]
    }
   ],
   "source": [
    "country='INDIA'\n",
    "state=\"MP\"\n",
    "age=18\n",
    "name=\"Sachin\"\n",
    "\n",
    "print('I am from', country)\n",
    "print('I love '+ country)\n",
    "print(\"I love \"+ country)\n",
    "print(\"My state name is : \"+ state)\n",
    "\n",
    "print(name, 'is', age, 'year old')\n",
    "print(\"Yeah me too.!\")"
   ]
  }
 ],
 "metadata": {
  "kernelspec": {
   "display_name": "Python 3",
   "language": "python",
   "name": "python3"
  },
  "language_info": {
   "codemirror_mode": {
    "name": "ipython",
    "version": 3
   },
   "file_extension": ".py",
   "mimetype": "text/x-python",
   "name": "python",
   "nbconvert_exporter": "python",
   "pygments_lexer": "ipython3",
   "version": "3.6.1"
  }
 },
 "nbformat": 4,
 "nbformat_minor": 2
}
