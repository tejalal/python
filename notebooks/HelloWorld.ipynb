{
 "cells": [
  {
   "cell_type": "markdown",
   "metadata": {},
   "source": [
    "## Hello World Program\n",
    "Hello World! program in Python is the simplest and smallest program you would have ever seen in any programmig language"
   ]
  },
  {
   "cell_type": "code",
   "execution_count": 1,
   "metadata": {},
   "outputs": [
    {
     "name": "stdout",
     "output_type": "stream",
     "text": [
      "Hello World\n"
     ]
    }
   ],
   "source": [
    "print(\"Hello World\")"
   ]
  },
  {
   "cell_type": "markdown",
   "metadata": {},
   "source": [
    "### Below are the some of the various ways in which print() function can be used"
   ]
  },
  {
   "cell_type": "markdown",
   "metadata": {
    "collapsed": true
   },
   "source": [
    "- **print()** function is used to display output\n",
    "- It can be used to display any type of data like constants, strings, variables etc.\n",
    "- The simplest form of print() function is:\n",
    "- **print(string/variable/constant)**"
   ]
  },
  {
   "cell_type": "code",
   "execution_count": 1,
   "metadata": {
    "scrolled": true
   },
   "outputs": [
    {
     "name": "stdout",
     "output_type": "stream",
     "text": [
      "Hello World\n",
      "Hello World\n",
      "Hello World Hello World\n",
      "Hello World Hello World\n"
     ]
    }
   ],
   "source": [
    "print(\"Hello World\")\n",
    "print('Hello World')\n",
    "print('Hello World', 'Hello World')\n",
    "print(\"Hello World\", \"Hello World\")"
   ]
  },
  {
   "cell_type": "markdown",
   "metadata": {},
   "source": [
    "#### We can use plus (+) to combine strings\n",
    "#### We can use both single quotes ' ' and double quotes \" \" to print or create strings"
   ]
  },
  {
   "cell_type": "code",
   "execution_count": 5,
   "metadata": {
    "scrolled": true
   },
   "outputs": [
    {
     "name": "stdout",
     "output_type": "stream",
     "text": [
      "I am learning PYTHON\n",
      "I love PYTHON\n",
      "I love PYTHON\n",
      "My favourite programming language is now PYTHON\n"
     ]
    }
   ],
   "source": [
    "print('I am learning PYTHON')\n",
    "print(\"I love PYTHON\")\n",
    "print(\"I love \" + 'PYTHON')\n",
    "print(\"My favourite programming language is now \" + \"PYTHON\")"
   ]
  },
  {
   "cell_type": "markdown",
   "metadata": {},
   "source": [
    "#### We can assign string and numbers to variales and can print the variable as shown in below program\n",
    "#### We can use comma to seperate the variables and strings in print() function\n",
    "#### Integer variables can not be printed using plus, instead we need to use comma or convert integer to string (that we will conver later)"
   ]
  },
  {
   "cell_type": "code",
   "execution_count": 6,
   "metadata": {
    "scrolled": false
   },
   "outputs": [
    {
     "name": "stdout",
     "output_type": "stream",
     "text": [
      "I am from INDIA\n",
      "I love INDIA\n",
      "I love INDIA\n",
      "My state name is : MP\n",
      "Sachin is 18 year old\n",
      "Yeah me too.!\n"
     ]
    }
   ],
   "source": [
    "country='INDIA'\n",
    "state=\"MP\"\n",
    "age=18\n",
    "name=\"Sachin\"\n",
    "\n",
    "print('I am from', country)\n",
    "print('I love '+ country)\n",
    "print(\"I love \"+ country)\n",
    "print(\"My state name is : \"+ state)\n",
    "\n",
    "print(name, 'is', age, 'year old')\n",
    "print(\"Yeah me too.!\")"
   ]
  },
  {
   "cell_type": "markdown",
   "metadata": {},
   "source": [
    "### Note: In above program country, state, age and name are variables (Can you find where do we declare them ??)"
   ]
  }
 ],
 "metadata": {
  "kernelspec": {
   "display_name": "Python 3",
   "language": "python",
   "name": "python3"
  },
  "language_info": {
   "codemirror_mode": {
    "name": "ipython",
    "version": 3
   },
   "file_extension": ".py",
   "mimetype": "text/x-python",
   "name": "python",
   "nbconvert_exporter": "python",
   "pygments_lexer": "ipython3",
   "version": "3.6.1"
  }
 },
 "nbformat": 4,
 "nbformat_minor": 2
}
