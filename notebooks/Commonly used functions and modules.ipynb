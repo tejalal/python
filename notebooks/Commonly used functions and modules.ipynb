{
 "cells": [
  {
   "cell_type": "markdown",
   "metadata": {},
   "source": [
    "# Commonly used functions"
   ]
  },
  {
   "cell_type": "markdown",
   "metadata": {},
   "source": [
    "## Formatting strings"
   ]
  },
  {
   "cell_type": "markdown",
   "metadata": {},
   "source": [
    "- format() is used to format the output of the program in various ways\n",
    "- Here is some common uses of it"
   ]
  },
  {
   "cell_type": "code",
   "execution_count": 2,
   "metadata": {},
   "outputs": [
    {
     "name": "stdout",
     "output_type": "stream",
     "text": [
      "12,345\n"
     ]
    }
   ],
   "source": [
    "n=12345\n",
    "\n",
    "print(format(n,',')) # will put the comma at thousands place\n"
   ]
  },
  {
   "cell_type": "markdown",
   "metadata": {},
   "source": [
    "### Justify the output (left, right, center)"
   ]
  },
  {
   "cell_type": "code",
   "execution_count": 14,
   "metadata": {
    "scrolled": true
   },
   "outputs": [
    {
     "name": "stdout",
     "output_type": "stream",
     "text": [
      "            123456.8\n",
      "                12.3\n",
      "123456.78           \n",
      "12.35               \n",
      "      123456.8      \n",
      "        12.3        \n"
     ]
    }
   ],
   "source": [
    "a = 123456.78\n",
    "b = 12.345\n",
    "\n",
    "print(format(a,'>20.1f')) # right justify\n",
    "print(format(b,'>20.1f'))\n",
    "\n",
    "print(format(a,'<20.2f')) # left justify\n",
    "print(format(b,'<20.2f'))\n",
    "\n",
    "print(format(a,'^20.1f')) # center justify\n",
    "print(format(b,'^20.1f'))\n",
    "\n",
    "# Note: 20 is the total width in which the data will be justified, it can be changed"
   ]
  },
  {
   "cell_type": "markdown",
   "metadata": {},
   "source": [
    "### Shorter way of doing the same"
   ]
  },
  {
   "cell_type": "code",
   "execution_count": 16,
   "metadata": {},
   "outputs": [
    {
     "name": "stdout",
     "output_type": "stream",
     "text": [
      "India               \n",
      "               India\n",
      "       India        \n"
     ]
    }
   ],
   "source": [
    "country = 'India'\n",
    "print(country.ljust(20))\n",
    "print(country.rjust(20))\n",
    "print(country.center(20))"
   ]
  },
  {
   "cell_type": "markdown",
   "metadata": {},
   "source": [
    "## Absolute value, Round and Number Conversion"
   ]
  },
  {
   "cell_type": "code",
   "execution_count": 89,
   "metadata": {
    "scrolled": true
   },
   "outputs": [
    {
     "name": "stdout",
     "output_type": "stream",
     "text": [
      "156\n",
      "5\n",
      "\n",
      "\n",
      "Binary of  4 is:  0b100\n",
      "octal of  4 is:  0o4\n",
      "Hexa decimnal of 4 is:  0x4\n"
     ]
    }
   ],
   "source": [
    "a = 4\n",
    "n=156.4\n",
    "\n",
    "print( round(n) )\n",
    "print( abs(-5) )\n",
    "\n",
    "print(\"\\n\")\n",
    "print('Binary of ', a , 'is: ',bin(a))\n",
    "print('octal of ' ,a , 'is: ',oct(a))\n",
    "print('Hexa decimnal of' , a ,'is: ',hex(a))"
   ]
  },
  {
   "cell_type": "markdown",
   "metadata": {},
   "source": [
    "## Math functions"
   ]
  },
  {
   "cell_type": "code",
   "execution_count": 96,
   "metadata": {},
   "outputs": [
    {
     "name": "stdout",
     "output_type": "stream",
     "text": [
      "Square root of 4 is:  2.0\n",
      "156\n",
      "157\n"
     ]
    }
   ],
   "source": [
    "import math\n",
    "\n",
    "a = 4\n",
    "n=156.4\n",
    "\n",
    "print('Square root of', a , 'is: ', math.sqrt(a))\n",
    "print( math.floor(n) )\n",
    "print( math.ceil(n) )\n"
   ]
  },
  {
   "cell_type": "markdown",
   "metadata": {},
   "source": [
    "#### Format function can also be used to do the number conversion"
   ]
  },
  {
   "cell_type": "code",
   "execution_count": 41,
   "metadata": {},
   "outputs": [
    {
     "name": "stdout",
     "output_type": "stream",
     "text": [
      "Binary =  100\n",
      "Octal =  4\n",
      "Hexa decimal =  4\n"
     ]
    }
   ],
   "source": [
    "n = 4\n",
    "print('Binary = ',format(n,'b'))\n",
    "print('Octal = ',format(n,'o'))\n",
    "print('Hexa decimal = ',format(n,'x'))"
   ]
  },
  {
   "cell_type": "markdown",
   "metadata": {},
   "source": [
    "### Get the type of variable"
   ]
  },
  {
   "cell_type": "code",
   "execution_count": 25,
   "metadata": {
    "scrolled": false
   },
   "outputs": [
    {
     "name": "stdout",
     "output_type": "stream",
     "text": [
      "<class 'int'>\n",
      "<class 'str'>\n",
      "<class 'float'>\n"
     ]
    }
   ],
   "source": [
    "age= 18\n",
    "name = \"Sachin\"\n",
    "pi = 3.14\n",
    "print(type(age))\n",
    "print(type(name))\n",
    "print(type(pi))"
   ]
  },
  {
   "cell_type": "markdown",
   "metadata": {},
   "source": [
    "### ASCII value\n",
    "- ord() function is used to get the ASCII value of any characcter\n",
    "- chr() function returns the character corresponng to ASCII value"
   ]
  },
  {
   "cell_type": "code",
   "execution_count": 50,
   "metadata": {},
   "outputs": [
    {
     "name": "stdout",
     "output_type": "stream",
     "text": [
      "ASCII value of A is :  65\n",
      "ASCII value of a is :  97\n",
      "ASCII value of B is :  66\n",
      "Character corresponding to ASCII value 65 is  A\n"
     ]
    }
   ],
   "source": [
    "print(\"ASCII value of A is : \", ord('A') )\n",
    "print(\"ASCII value of a is : \", ord('a') ) \n",
    "ch ='B'\n",
    "print(\"ASCII value of B is : \", ord(ch) ) \n",
    "\n",
    "print(\"Character corresponding to ASCII value 65 is \", chr(65))"
   ]
  },
  {
   "cell_type": "markdown",
   "metadata": {},
   "source": [
    "#### Print all the variables seperated and end by some specific character"
   ]
  },
  {
   "cell_type": "code",
   "execution_count": 53,
   "metadata": {},
   "outputs": [
    {
     "name": "stdout",
     "output_type": "stream",
     "text": [
      "Sachin:18:Cricket."
     ]
    }
   ],
   "source": [
    "name = \"Sachin\"\n",
    "age = 18\n",
    "hobby = \"Cricket\"\n",
    "print(name, age, hobby ,sep=':',end='.')"
   ]
  },
  {
   "cell_type": "markdown",
   "metadata": {},
   "source": [
    "### Printing variables value in diferent ways"
   ]
  },
  {
   "cell_type": "code",
   "execution_count": 85,
   "metadata": {},
   "outputs": [
    {
     "name": "stdout",
     "output_type": "stream",
     "text": [
      "The value of name is Sachin age is 18\n",
      "The value of name is Sachin age is 18\n",
      "The value of name is Sachin and age is 18\n",
      "I like Python and Java\n",
      "I like Java and Python\n",
      "Hello Sourav, Good morning\n"
     ]
    }
   ],
   "source": [
    "name = 'Sachin'\n",
    "age = 18\n",
    "\n",
    "print('The value of name is', name, 'age is', age)\n",
    "\n",
    "print('The value of name is '+ name +' age is '+ str(age))\n",
    "\n",
    "print('The value of name is {} and age is {}'.format(name,age))\n",
    "\n",
    "print('I like {0} and {1}'.format('Python','Java'))\n",
    "\n",
    "print('I like {1} and {0}'.format('Python','Java'))\n",
    "\n",
    "print('Hello {name}, {greeting}'.format(greeting = 'Good morning', name = 'Sourav'))"
   ]
  },
  {
   "cell_type": "markdown",
   "metadata": {},
   "source": [
    "### Expression Evaluation"
   ]
  },
  {
   "cell_type": "code",
   "execution_count": 59,
   "metadata": {},
   "outputs": [
    {
     "name": "stdout",
     "output_type": "stream",
     "text": [
      "22\n"
     ]
    }
   ],
   "source": [
    "n='2*5+4+2**3' # ** is use to calculate power like x raise to y (x**y)\n",
    "print(eval(n))"
   ]
  },
  {
   "cell_type": "markdown",
   "metadata": {},
   "source": [
    "### String unpacking"
   ]
  },
  {
   "cell_type": "code",
   "execution_count": 62,
   "metadata": {},
   "outputs": [
    {
     "name": "stdout",
     "output_type": "stream",
     "text": [
      "P Q R\n"
     ]
    }
   ],
   "source": [
    "x,y,z = \"PQR\"\n",
    "\n",
    "print(x,y,z)"
   ]
  },
  {
   "cell_type": "markdown",
   "metadata": {},
   "source": [
    "### Random number generation"
   ]
  },
  {
   "cell_type": "code",
   "execution_count": 67,
   "metadata": {},
   "outputs": [
    {
     "name": "stdout",
     "output_type": "stream",
     "text": [
      "x =  0.8103651151602475\n",
      "y =  13\n"
     ]
    }
   ],
   "source": [
    "import random\n",
    "x = random.random() # generate any random number between 0 and 1\n",
    "print(\"x = \", x)\n",
    "\n",
    "y = random.randint(5,20)# generate any random number between 5 and 20\n",
    "print(\"y = \", y)"
   ]
  },
  {
   "cell_type": "markdown",
   "metadata": {},
   "source": [
    "### Print current date, year, month and day"
   ]
  },
  {
   "cell_type": "code",
   "execution_count": 86,
   "metadata": {},
   "outputs": [
    {
     "name": "stdout",
     "output_type": "stream",
     "text": [
      "2018-10-13\n",
      "2018\n",
      "10\n",
      "13\n"
     ]
    }
   ],
   "source": [
    "import datetime\n",
    "\n",
    "date = datetime.datetime.now().date() # YYYY-MM-DD format\n",
    "\n",
    "year = datetime.datetime.now().year\n",
    "month = datetime.datetime.now().month\n",
    "day = datetime.datetime.now().day\n",
    "\n",
    "print(date)\n",
    "\n",
    "print(year)\n",
    "print(month)\n",
    "print(day)"
   ]
  },
  {
   "cell_type": "markdown",
   "metadata": {},
   "source": [
    "## Print Calendar of the month"
   ]
  },
  {
   "cell_type": "code",
   "execution_count": 77,
   "metadata": {},
   "outputs": [
    {
     "name": "stdout",
     "output_type": "stream",
     "text": [
      "Enter Year : 2015\n",
      "Enter the Month : 10\n",
      "    October 2015\n",
      "Mo Tu We Th Fr Sa Su\n",
      "          1  2  3  4\n",
      " 5  6  7  8  9 10 11\n",
      "12 13 14 15 16 17 18\n",
      "19 20 21 22 23 24 25\n",
      "26 27 28 29 30 31\n",
      "\n"
     ]
    }
   ],
   "source": [
    "import calendar\n",
    "\n",
    "year = int(input(\"Enter Year : \"))\n",
    "momth = int(input(\"Enter the Month : \"))\n",
    "\n",
    "print(calendar.month(year, month))"
   ]
  }
 ],
 "metadata": {
  "kernelspec": {
   "display_name": "Python 3",
   "language": "python",
   "name": "python3"
  },
  "language_info": {
   "codemirror_mode": {
    "name": "ipython",
    "version": 3
   },
   "file_extension": ".py",
   "mimetype": "text/x-python",
   "name": "python",
   "nbconvert_exporter": "python",
   "pygments_lexer": "ipython3",
   "version": "3.6.1"
  }
 },
 "nbformat": 4,
 "nbformat_minor": 2
}
