{
 "cells": [
  {
   "cell_type": "markdown",
   "metadata": {
    "collapsed": true
   },
   "source": [
    "# Constants and Variables\n",
    "\n",
    "### Variable\n",
    "- Variables are named memory locations\n",
    "- We dont need to declare them in Python\n",
    "- Their type is decided based on the type of values they are assigned to \n",
    "- Variables are user defined, their name could be anything but we should try to make some meaningful variables in the program.\n",
    "- The value of varibles can be changed\n",
    "- Varibales take some space in memory\n",
    "- We can create different types of varibales as per the need\n",
    "\n",
    "### Constants\n",
    "- These are the actual values which can't be changed like integers (5, 10), string('India', 'F'), float (10.5, 3.14)\n",
    "- We store constant into some variables, so that we can perform some operations on them"
   ]
  },
  {
   "cell_type": "markdown",
   "metadata": {},
   "source": [
    "### Syntax:\n",
    "\n",
    "variablename = value\n",
    "\n",
    "for example if we want to create a variable to store our name and age, we can create like\n",
    "\n",
    "name=\"Sachin\"\n",
    "\n",
    "age=18\n"
   ]
  },
  {
   "cell_type": "markdown",
   "metadata": {},
   "source": [
    "### Program for arithmetic operations\n",
    "Here is the program to do arithmetic operation(Add, Subtract, Multiply and Divide) on two number"
   ]
  },
  {
   "cell_type": "code",
   "execution_count": 1,
   "metadata": {
    "scrolled": true
   },
   "outputs": [
    {
     "name": "stdout",
     "output_type": "stream",
     "text": [
      "First number =  40\n",
      "Second number =  20\n",
      "Addition 60\n",
      "Subtraction =  20\n",
      "Multiplication =  800\n",
      "Division =  2.0\n"
     ]
    }
   ],
   "source": [
    "# variable creation\n",
    "number1=40\n",
    "number2=20\n",
    "\n",
    "addition = number1 + number2\n",
    "subtraction = number1 - number2\n",
    "multiplication = number1 * number2\n",
    "division = number1 / number2\n",
    "\n",
    "print(\"First number = \", number1)\n",
    "print(\"Second number = \", number2)\n",
    "print(\"Addition\", addition)\n",
    "print(\"Subtraction = \", subtraction)\n",
    "print(\"Multiplication = \", multiplication)\n",
    "print(\"Division = \", division)"
   ]
  },
  {
   "cell_type": "markdown",
   "metadata": {},
   "source": [
    "Above program has total of 6 variables"
   ]
  },
  {
   "cell_type": "markdown",
   "metadata": {},
   "source": [
    "# Taking input from the user\n",
    "- Taking input from the user is very easy. \n",
    "- input() function is used to take the input from the user\n",
    "\n",
    "### Syntax:\n",
    "\n",
    "variable = input(\"Enter some data\")\n",
    "\n",
    "Here is the simple program which takes some data from the user"
   ]
  },
  {
   "cell_type": "code",
   "execution_count": 2,
   "metadata": {
    "scrolled": true
   },
   "outputs": [
    {
     "name": "stdout",
     "output_type": "stream",
     "text": [
      "Enter your first name: Sachin\n",
      "Enter your second name: Verma\n",
      "Enter your age: 18\n",
      "Hello friends my name is  Sachin Verma  and I am  18 year old\n"
     ]
    }
   ],
   "source": [
    "firstname = input(\"Enter your first name: \") # read firstname\n",
    "\n",
    "lastname = input(\"Enter your second name: \") # read lastname\n",
    "\n",
    "age = input(\"Enter your age: \") # read age\n",
    "\n",
    "fullname = firstname + \" \" +lastname # concatenate firstname and lastname\n",
    "\n",
    "print(\"Hello friends my name is \",fullname, \" and I am \", age, \"year old\")"
   ]
  },
  {
   "cell_type": "markdown",
   "metadata": {},
   "source": [
    "#### Note: all the input come as string, So you may need to convert them to appopriate type before performing some operations\n",
    "\n",
    "Following program will give error"
   ]
  },
  {
   "cell_type": "code",
   "execution_count": 6,
   "metadata": {},
   "outputs": [
    {
     "name": "stdout",
     "output_type": "stream",
     "text": [
      "Enter your age: 34\n"
     ]
    },
    {
     "ename": "TypeError",
     "evalue": "must be str, not int",
     "output_type": "error",
     "traceback": [
      "\u001b[1;31m---------------------------------------------------------------------------\u001b[0m",
      "\u001b[1;31mTypeError\u001b[0m                                 Traceback (most recent call last)",
      "\u001b[1;32m<ipython-input-6-92ba3e7b145f>\u001b[0m in \u001b[0;36m<module>\u001b[1;34m()\u001b[0m\n\u001b[0;32m      1\u001b[0m \u001b[0mage\u001b[0m\u001b[1;33m=\u001b[0m\u001b[0minput\u001b[0m\u001b[1;33m(\u001b[0m\u001b[1;34m\"Enter your age: \"\u001b[0m\u001b[1;33m)\u001b[0m \u001b[1;31m# read age\u001b[0m\u001b[1;33m\u001b[0m\u001b[0m\n\u001b[0;32m      2\u001b[0m \u001b[1;33m\u001b[0m\u001b[0m\n\u001b[1;32m----> 3\u001b[1;33m \u001b[0mage\u001b[0m \u001b[1;33m=\u001b[0m \u001b[0mage\u001b[0m \u001b[1;33m+\u001b[0m \u001b[1;36m5\u001b[0m\u001b[1;33m\u001b[0m\u001b[0m\n\u001b[0m",
      "\u001b[1;31mTypeError\u001b[0m: must be str, not int"
     ]
    }
   ],
   "source": [
    "age=input(\"Enter your age: \") # read age\n",
    "\n",
    "age = age + 5\n"
   ]
  },
  {
   "cell_type": "markdown",
   "metadata": {},
   "source": [
    "- Because we are trying to read age and adding 5 to it. \n",
    "- First line is ok, The problem is in second line. \n",
    "- We can not add 5 to it before converting it to integer(right now age is string value).\n",
    "\n",
    "\n",
    "The correct way to add 5 to age is:"
   ]
  },
  {
   "cell_type": "code",
   "execution_count": 3,
   "metadata": {
    "scrolled": true
   },
   "outputs": [
    {
     "name": "stdout",
     "output_type": "stream",
     "text": [
      "Enter your age: 18\n",
      "Age =  23\n"
     ]
    }
   ],
   "source": [
    "age=input(\"Enter your age: \") # read age\n",
    "\n",
    "age = int(age) + 5 # converting age to integer\n",
    "\n",
    "print(\"Age = \", age)"
   ]
  },
  {
   "cell_type": "markdown",
   "metadata": {},
   "source": [
    "# Type conversion\n",
    "- Type conversion is used to convert value of one type to another, as we see in above program\n",
    "-  We can convert from one type to another type by using appropriate fucntion as shown below\n",
    "\n",
    "int() function is used to convert to integer. Other conversion functions are:\n",
    "\n",
    "float()\n",
    "\n",
    "str()"
   ]
  },
  {
   "cell_type": "markdown",
   "metadata": {},
   "source": [
    "### Program to find the area of the circle"
   ]
  },
  {
   "cell_type": "code",
   "execution_count": 18,
   "metadata": {},
   "outputs": [
    {
     "name": "stdout",
     "output_type": "stream",
     "text": [
      "Enter the radius of the circle: 10.5\n",
      "Area of the circle is:  346.185\n",
      "Area of the circle is: 346.185\n"
     ]
    }
   ],
   "source": [
    "pi=3.14\n",
    "\n",
    "radius = input(\"Enter the radius of the circle: \")\n",
    "\n",
    "radius = float(radius) # convert the radius to float and store into radius\n",
    "\n",
    "area = pi * radius * radius\n",
    "\n",
    "print(\"Area of the circle is: \", area)\n",
    "\n",
    "print(\"Area of the circle is: \" + str(area) )\n"
   ]
  },
  {
   "cell_type": "markdown",
   "metadata": {},
   "source": [
    "### Different type conversion"
   ]
  },
  {
   "cell_type": "code",
   "execution_count": 19,
   "metadata": {
    "scrolled": false
   },
   "outputs": [
    {
     "name": "stdout",
     "output_type": "stream",
     "text": [
      "100\n",
      "100.0\n",
      "50\n",
      "50.0\n",
      "3\n",
      "3.14\n"
     ]
    }
   ],
   "source": [
    "a = 100 # a is of type int\n",
    "\n",
    "print(str(a)) # str() will convert to string\n",
    "print(float(a)) # float() will convert to float\n",
    "\n",
    "b='50' # b is string\n",
    "print(int(b))\n",
    "print(float(b))\n",
    "\n",
    "c=3.14 # c is floating point\n",
    "\n",
    "print(int(c)) # values after decinal point will be lost\n",
    "print(str(c))"
   ]
  },
  {
   "cell_type": "markdown",
   "metadata": {},
   "source": [
    "#### We can use format() function to format the output as shown below. We will cover other uses of format () function later"
   ]
  },
  {
   "cell_type": "code",
   "execution_count": 25,
   "metadata": {},
   "outputs": [
    {
     "name": "stdout",
     "output_type": "stream",
     "text": [
      "All the digits:  3.14444444\n",
      "Only 2 digit after decimal point:  3.14\n",
      "Only 4 digit after decimal point:  3.1444\n"
     ]
    }
   ],
   "source": [
    "value = 3.14444444\n",
    "\n",
    "new_value = format(value,'0.2f')\n",
    "\n",
    "print(\"All the digits: \", value)\n",
    "print(\"Only 2 digit after decimal point: \",new_value)\n",
    "\n",
    "print(\"Only 4 digit after decimal point: \",format(value, '0.4f'))"
   ]
  }
 ],
 "metadata": {
  "kernelspec": {
   "display_name": "Python 3",
   "language": "python",
   "name": "python3"
  },
  "language_info": {
   "codemirror_mode": {
    "name": "ipython",
    "version": 3
   },
   "file_extension": ".py",
   "mimetype": "text/x-python",
   "name": "python",
   "nbconvert_exporter": "python",
   "pygments_lexer": "ipython3",
   "version": "3.6.1"
  }
 },
 "nbformat": 4,
 "nbformat_minor": 2
}
