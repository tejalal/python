{
 "cells": [
  {
   "cell_type": "markdown",
   "metadata": {},
   "source": [
    "# Lists and Tuples"
   ]
  },
  {
   "cell_type": "markdown",
   "metadata": {},
   "source": [
    "## Lists\n",
    "- A list is a collection of items, that is stored in a variable. \n",
    "- The items should be related in some way, but there are no restrictions on what can be stored in a list."
   ]
  },
  {
   "cell_type": "markdown",
   "metadata": {},
   "source": [
    "### Syntax\n",
    "list-name = [list of comma seperated values]"
   ]
  },
  {
   "cell_type": "markdown",
   "metadata": {},
   "source": [
    "### Slicing with list\n",
    "\n",
    "index start with 0\n",
    "\n",
    " listname[index_number]\n",
    "\n",
    " listname[start_index:end_index]\n",
    "\n",
    " listname[:end_index]\n",
    "\n",
    " listname[start_index:]\n",
    "\n",
    "\n",
    "negative index: \n",
    " listname[:-index] \n",
    "\n",
    "\n",
    "### list methods\n",
    "- append()\n",
    "- len()\n",
    "- insert(index,value)\n",
    "- sort()\n",
    "- reverse()\n",
    "- pop(), pop(index)\n",
    "- min(), max(), sum()\n",
    "\n",
    "\n",
    "We can change the contents of the lists after its creation\n",
    "\n",
    "listname[index]=newvalue"
   ]
  },
  {
   "cell_type": "code",
   "execution_count": 1,
   "metadata": {},
   "outputs": [
    {
     "name": "stdout",
     "output_type": "stream",
     "text": [
      "['India', 'Australia', 'USA']\n",
      "Value at 0 index:  India\n",
      "New value at index 0:  Australia\n"
     ]
    }
   ],
   "source": [
    "# list creation\n",
    "countries = ['India', 'Australia', 'USA']\n",
    "# print whole list\n",
    "print(countries)\n",
    "# Accessing list elements\n",
    "print(\"Value at 0 index: \",countries[0])\n",
    "# assignning new value to index\n",
    "countries[0]='Japan'\n",
    "print(\"New value at index 0: \",countries[1])"
   ]
  },
  {
   "cell_type": "code",
   "execution_count": 2,
   "metadata": {
    "scrolled": true
   },
   "outputs": [
    {
     "name": "stdout",
     "output_type": "stream",
     "text": [
      "['My name is', 'I am in', 3, 'Semester']\n",
      "My name is\n",
      "I am in\n",
      "3\n",
      "Semester\n"
     ]
    }
   ],
   "source": [
    "hybridlists=['My name is',\n",
    "             'I am in',\n",
    "             3,\n",
    "             'Semester']\n",
    "print(hybridlists)\n",
    "# we can access the elements of list using loops\n",
    "for item in hybridlists:\n",
    "    print(item)"
   ]
  },
  {
   "cell_type": "code",
   "execution_count": 3,
   "metadata": {
    "scrolled": false
   },
   "outputs": [
    {
     "name": "stdout",
     "output_type": "stream",
     "text": [
      "Index: 0, Value: India\n",
      "Index: 1, Value: Australia\n",
      "Index: 2, Value: Usa\n",
      "\n",
      " Index of India is:  0\n"
     ]
    }
   ],
   "source": [
    "# print the index number with value\n",
    "countries = ['India', 'Australia', 'USA']\n",
    "for index, country in enumerate(countries):\n",
    "    place = str(index)\n",
    "    print(\"Index: \" + place + \", Value: \" + country.title())\n",
    "# find index of\n",
    "index = countries.index('India') \n",
    "print(\"\\n Index of India is: \",index)"
   ]
  },
  {
   "cell_type": "code",
   "execution_count": 4,
   "metadata": {},
   "outputs": [
    {
     "name": "stdout",
     "output_type": "stream",
     "text": [
      "['India', 'Australia']\n"
     ]
    }
   ],
   "source": [
    "# Remove the last country from the list by index or by value\n",
    "del countries[2]\n",
    "print(countries)"
   ]
  },
  {
   "cell_type": "markdown",
   "metadata": {},
   "source": [
    "### List comprehension (with for loop)"
   ]
  },
  {
   "cell_type": "code",
   "execution_count": 5,
   "metadata": {},
   "outputs": [
    {
     "name": "stdout",
     "output_type": "stream",
     "text": [
      "[1, 8, 27, 64, 125]\n"
     ]
    }
   ],
   "source": [
    "# without comprehension\n",
    "cubes = []\n",
    "for x in [1, 2, 3, 4, 5]:\n",
    "    cubes.append(x ** 3)  \n",
    "print(cubes)"
   ]
  },
  {
   "cell_type": "code",
   "execution_count": 6,
   "metadata": {},
   "outputs": [
    {
     "name": "stdout",
     "output_type": "stream",
     "text": [
      "[1, 8, 27, 64, 125]\n"
     ]
    }
   ],
   "source": [
    "# with comprehension\n",
    "cubes= [x**3 for x in [1, 2, 3, 4, 5]]\n",
    "print(cubes)"
   ]
  },
  {
   "cell_type": "code",
   "execution_count": 7,
   "metadata": {},
   "outputs": [
    {
     "data": {
      "text/plain": [
       "[1, 2, 3, 4, 5, 6, 7, 8, 9, 10]"
      ]
     },
     "execution_count": 7,
     "metadata": {},
     "output_type": "execute_result"
    }
   ],
   "source": [
    "numbers=[1,2,3,4,5,6,7,8,9,10]\n",
    "list=[x for x in numbers]\n",
    "list"
   ]
  },
  {
   "cell_type": "code",
   "execution_count": 8,
   "metadata": {},
   "outputs": [
    {
     "name": "stdout",
     "output_type": "stream",
     "text": [
      "1 2 3 4 5 6 7 8 9 10\n"
     ]
    }
   ],
   "source": [
    "numbers=[1,2,3,4,5,6,7,8,9,10]\n",
    "print(' '.join([str(item) for item in numbers]))"
   ]
  },
  {
   "cell_type": "code",
   "execution_count": 9,
   "metadata": {},
   "outputs": [
    {
     "name": "stdout",
     "output_type": "stream",
     "text": [
      "Index of tester is : 2\n",
      "Job type tester is in the list ? True\n",
      "['programmer', 'truck driver', 'tester', 'manager', 'analyst']\n",
      "['Python programmer', 'programmer', 'truck driver', 'tester', 'manager', 'analyst']\n",
      "\n",
      "job types in the list are:\n",
      "\n",
      "Python programmer\n",
      "programmer\n",
      "truck driver\n",
      "tester\n",
      "manager\n",
      "analyst\n"
     ]
    }
   ],
   "source": [
    "# Make a list that includes four job types , such as 'programmer', 'truck driver' and so on\n",
    "# Use the list.index() function to find the index of one job type in your list.\n",
    "# Use the in function to show that this job type is in your list.\n",
    "# Use the append() function to add a new job type to your list.\n",
    "# Use the insert() function to add a new job type \"Python Programmer\" at the beginning of the list.\n",
    "# Use a loop to show all the job types in your list.\n",
    "\n",
    "list=['programmer','truck driver','tester','manager']\n",
    "print(\"Index of tester is :\", list.index('tester'))\n",
    "print(\"Job type tester is in the list ?\", ('tester' in list))\n",
    "list.append('analyst')\n",
    "print(list)\n",
    "list.insert(0,'Python programmer')\n",
    "print(list)\n",
    "print(\"\\njob types in the list are:\\n\")\n",
    "for jobtype in list:\n",
    "    print(jobtype)"
   ]
  },
  {
   "cell_type": "code",
   "execution_count": 10,
   "metadata": {},
   "outputs": [
    {
     "name": "stdout",
     "output_type": "stream",
     "text": [
      "['Ratan Tata', 'Narendra Modi', 'Raghuram Rajan']\n",
      "['Narendra Modi', 'Raghuram Rajan']\n",
      "['Narendra Modi']\n",
      "There are no famous people left in your list\n",
      "[]\n"
     ]
    }
   ],
   "source": [
    "famous=['Dhirubhai Ambani','Ratan Tata','Narendra Modi','Raghuram Rajan']\n",
    "del famous[0]\n",
    "print(famous)\n",
    "famous.remove('Ratan Tata')\n",
    "print(famous)\n",
    "famous.pop()\n",
    "print(famous)\n",
    "famous.pop(0)\n",
    "if list:\n",
    "    print(\"There are no famous people left in your list\")\n",
    "print(famous)"
   ]
  },
  {
   "cell_type": "code",
   "execution_count": 11,
   "metadata": {},
   "outputs": [
    {
     "name": "stdout",
     "output_type": "stream",
     "text": [
      "First two characters are: ['a', 'b']\n",
      "Any three characters from middle of the list are: ['e', 'f', 'g']\n",
      "Characters from middle of the list to the end are: ['f', 'g', 'h', 'i', 'j']\n"
     ]
    }
   ],
   "source": [
    "alphabets=['a','b','c','d','e','f','g','h','i','j']\n",
    "print(\"First two characters are:\", alphabets[:2])\n",
    "print(\"Any three characters from middle of the list are:\", alphabets[4:7])\n",
    "print(\"Characters from middle of the list to the end are:\", alphabets[5:])"
   ]
  },
  {
   "cell_type": "code",
   "execution_count": 12,
   "metadata": {},
   "outputs": [
    {
     "name": "stdout",
     "output_type": "stream",
     "text": [
      "Word: Variable\n",
      "Definition: Variable store one value at a time\n",
      "\n",
      "\n",
      "Word: List\n",
      "Definition: List is the collection of the items\n",
      "\n",
      "\n",
      "Word: Loop\n",
      "Definition: Loops are used to execute same lines of code repeatedly\n",
      "\n",
      "\n"
     ]
    }
   ],
   "source": [
    "words=['Variable','List','Loop']\n",
    "definition=['Variable store one value at a time',\n",
    "            'List is the collection of the items',\n",
    "            'Loops are used to execute same lines of code repeatedly']\n",
    "index=0\n",
    "for word in words:\n",
    "    if word in words:\n",
    "        print(\"Word:\",word)\n",
    "        print(\"Definition:\",definition[index])\n",
    "        print(\"\\n\")\n",
    "    index+=1"
   ]
  },
  {
   "cell_type": "code",
   "execution_count": 13,
   "metadata": {},
   "outputs": [
    {
     "name": "stdout",
     "output_type": "stream",
     "text": [
      "Original List\n",
      "SACHIN\n",
      "SOURAV\n",
      "ROHIT\n",
      "\n",
      "This is the copied list\n",
      "SACHIN\n",
      "SOURAV\n",
      "ROHIT\n",
      "ASHWIN\n",
      "SEHWAG\n"
     ]
    }
   ],
   "source": [
    "people=['SACHIN', 'SOURAV', 'ROHIT']\n",
    "copied=people[:]\n",
    "\n",
    "copied.append('ASHWIN')\n",
    "copied.append('SEHWAG')\n",
    "\n",
    "print(\"Original List\")\n",
    "for items in people:\n",
    "    print(items)\n",
    "\n",
    "print(\"\\nThis is the copied list\")\n",
    "for items in copied:\n",
    "    print(items)"
   ]
  },
  {
   "cell_type": "code",
   "execution_count": 14,
   "metadata": {},
   "outputs": [
    {
     "name": "stdout",
     "output_type": "stream",
     "text": [
      "Maximum marks:  13\n",
      "Minimum marks:  2\n",
      "Sum of all the marks:  95.5\n",
      "Average of all the marks:  6.366666666666666\n",
      "\n",
      "List items are\n",
      "8 4.5 3 4 5 6 7 8 9 11 2 4 5 6 13\n",
      "\n",
      "Reverse items are\n",
      "13\n",
      "6\n",
      "5\n",
      "4\n",
      "2\n",
      "11\n",
      "9\n",
      "8\n",
      "7\n",
      "6\n",
      "5\n",
      "4\n",
      "3\n",
      "4.5\n",
      "8\n"
     ]
    }
   ],
   "source": [
    "marks=[8,4.5,3,4,5,6,7,8,9,11,2,4,5,6,13]\n",
    "print(\"Maximum marks: \",max(marks))\n",
    "print(\"Minimum marks: \",min(marks))\n",
    "print(\"Sum of all the marks: \",sum(marks))\n",
    "avg=sum(marks)/15\n",
    "print(\"Average of all the marks: \",avg)\n",
    "\n",
    "print(\"\\nList items are\")\n",
    "print(' '.join([str(item) for item in marks]))\n",
    "\n",
    "marks=reversed(marks)\n",
    "\n",
    "print(\"\\nReverse items are\")\n",
    "for item in marks:\n",
    "    print(item)"
   ]
  },
  {
   "cell_type": "markdown",
   "metadata": {},
   "source": [
    "# Tuples\n",
    "\n",
    "Tuples are similar to lists with important difference:\n",
    "\n",
    "1. Tuples are immutable, meaning they cannot be changed in place or appended to.\n",
    "2. We can apply slicing in same way as we apply on lists"
   ]
  },
  {
   "cell_type": "markdown",
   "metadata": {},
   "source": [
    "### Syntax\n",
    "\n",
    "tuplename=(list of comma seperated values)\n"
   ]
  },
  {
   "cell_type": "code",
   "execution_count": 15,
   "metadata": {},
   "outputs": [],
   "source": [
    "# creating tuples\n",
    "states=('Madhya Pradesh','Uttar Pradesh','Andhra Pradesh', 'Goa')"
   ]
  },
  {
   "cell_type": "code",
   "execution_count": 16,
   "metadata": {
    "scrolled": true
   },
   "outputs": [
    {
     "name": "stdout",
     "output_type": "stream",
     "text": [
      "('Madhya Pradesh', 'Uttar Pradesh', 'Andhra Pradesh', 'Goa')\n",
      "Madhya Pradesh\n",
      "('Madhya Pradesh', 'Uttar Pradesh')\n",
      "('Andhra Pradesh', 'Goa')\n",
      "Uttar Pradesh\n"
     ]
    }
   ],
   "source": [
    "print(states)\n",
    "print(states[0])\n",
    "print(states[0:2])\n",
    "print(states[2:])\n",
    "print(states[-3])"
   ]
  },
  {
   "cell_type": "code",
   "execution_count": 18,
   "metadata": {
    "scrolled": true
   },
   "outputs": [
    {
     "ename": "TypeError",
     "evalue": "'tuple' object does not support item assignment",
     "output_type": "error",
     "traceback": [
      "\u001b[1;31m---------------------------------------------------------------------------\u001b[0m",
      "\u001b[1;31mTypeError\u001b[0m                                 Traceback (most recent call last)",
      "\u001b[1;32m<ipython-input-18-c03dc1d4b328>\u001b[0m in \u001b[0;36m<module>\u001b[1;34m\u001b[0m\n\u001b[0;32m      1\u001b[0m \u001b[1;31m# following oprations are not allowed on tuples\u001b[0m\u001b[1;33m\u001b[0m\u001b[1;33m\u001b[0m\u001b[1;33m\u001b[0m\u001b[0m\n\u001b[1;32m----> 2\u001b[1;33m \u001b[0mstates\u001b[0m\u001b[1;33m[\u001b[0m\u001b[1;36m0\u001b[0m\u001b[1;33m]\u001b[0m\u001b[1;33m=\u001b[0m\u001b[1;34m'MP'\u001b[0m\u001b[1;33m\u001b[0m\u001b[1;33m\u001b[0m\u001b[0m\n\u001b[0m",
      "\u001b[1;31mTypeError\u001b[0m: 'tuple' object does not support item assignment"
     ]
    }
   ],
   "source": [
    "# following oprations are not allowed on tuples\n",
    "states[0]='MP'"
   ]
  },
  {
   "cell_type": "code",
   "execution_count": 19,
   "metadata": {},
   "outputs": [
    {
     "name": "stdout",
     "output_type": "stream",
     "text": [
      "Enter the values of m:3\n",
      "Enter the values of n:5\n",
      "3\n",
      "5\n"
     ]
    }
   ],
   "source": [
    "m=int(input(\"Enter the values of m:\"))\n",
    "n=int(input(\"Enter the values of n:\"))\n",
    "numbers = (range(m,n+1,2))\n",
    "for item in numbers:\n",
    "    print(item)"
   ]
  },
  {
   "cell_type": "code",
   "execution_count": 20,
   "metadata": {
    "scrolled": true
   },
   "outputs": [
    {
     "name": "stdout",
     "output_type": "stream",
     "text": [
      "2\n",
      "4\n",
      "6\n",
      "8\n",
      "10\n",
      "12\n",
      "14\n",
      "16\n",
      "18\n",
      "20\n"
     ]
    }
   ],
   "source": [
    "# tuple comprehesnsion\n",
    "evens = (number*2 for number in range(1,11))\n",
    "for even in evens:\n",
    "    print(even)"
   ]
  },
  {
   "cell_type": "code",
   "execution_count": 22,
   "metadata": {},
   "outputs": [
    {
     "name": "stdout",
     "output_type": "stream",
     "text": [
      "Country name: USA\n",
      "Country name: JAPAN\n",
      "Country name: India\n",
      "Country name: Hungry\n",
      "Country name: UK\n",
      "USA\n",
      "JAPAN\n",
      "India is Great\n",
      "Hungry\n",
      "UK\n"
     ]
    }
   ],
   "source": [
    "countries=[]\n",
    "for i in range(1,6):\n",
    "    country=input(\"Country name: \")\n",
    "    countries.append(country)\n",
    "\n",
    "for item in countries:\n",
    "    if 'India'==item:\n",
    "        print(item+' is Great')\n",
    "    else:\n",
    "        print(item)"
   ]
  },
  {
   "cell_type": "code",
   "execution_count": 23,
   "metadata": {},
   "outputs": [
    {
     "name": "stdout",
     "output_type": "stream",
     "text": [
      "[10, 8, 10, 1, 2, 1, 9, 7, 4, 6]\n",
      "(10, 8, 10, 1, 2, 1, 9, 7, 4, 6)\n"
     ]
    }
   ],
   "source": [
    "# COnvert list into tuple\n",
    "import random\n",
    "list1=[]\n",
    "for number in range(10):\n",
    "    n=random.randint(1,10)\n",
    "    list1.append(n)\n",
    "\n",
    "tuple1=tuple(list1)\n",
    "\n",
    "print(list1)\n",
    "print(tuple1)"
   ]
  },
  {
   "cell_type": "code",
   "execution_count": 24,
   "metadata": {
    "scrolled": true
   },
   "outputs": [
    {
     "name": "stdout",
     "output_type": "stream",
     "text": [
      "The tuple has following elements\n",
      "(1, 2, 3, 4, 5, 6, 7, 8, 2, 2)\n",
      "2 has occured 3 times in the tuple\n"
     ]
    }
   ],
   "source": [
    "# count of specific duplicate number \n",
    "score=(1,2,3,4,5,6,7,8,2,2)\n",
    "print(\"The tuple has following elements\")\n",
    "print(score)\n",
    "\n",
    "#return the number of times it appears in the tuple.\n",
    "count = score.count(2)\n",
    "print(\"2 has occured\",count,\"times in the tuple\")"
   ]
  },
  {
   "cell_type": "code",
   "execution_count": 25,
   "metadata": {},
   "outputs": [
    {
     "name": "stdout",
     "output_type": "stream",
     "text": [
      "Enter the value of n: 3\n",
      "Enter number: 1\n",
      "Enter number: 2\n",
      "Enter number: 3\n",
      "\n",
      " List after deleting all odd numbers\n",
      "\n",
      "[2]\n"
     ]
    }
   ],
   "source": [
    "# delete all odd numbers from the list.\n",
    "l=[]\n",
    "n=int(input(\"Enter the value of n: \"))\n",
    "for i in range(n):\n",
    "    num=int(input(\"Enter number: \"))\n",
    "    l.append(num)\n",
    "\n",
    "for item in l:\n",
    "    if item%2!=0:\n",
    "        l.remove(item)\n",
    "print(\"\\n List after deleting all odd numbers\\n\")\n",
    "print(l)"
   ]
  },
  {
   "cell_type": "code",
   "execution_count": 26,
   "metadata": {},
   "outputs": [
    {
     "name": "stdout",
     "output_type": "stream",
     "text": [
      "Enter the value of n: 4\n",
      "Enter number: 12\n",
      "Enter number: 10\n",
      "Enter number: 11\n",
      "Enter number: 13\n",
      "\n",
      "Contents of the list are:\n",
      "[14, 12, 11, 13]\n"
     ]
    }
   ],
   "source": [
    "# add 2 to each of the even numbers in the list\n",
    "l=[]\n",
    "n=int(input(\"Enter the value of n: \"))\n",
    "for i in range(n):\n",
    "    num=int(input(\"Enter number: \"))\n",
    "    if num%2==0:\n",
    "        num+=2\n",
    "    l.append(num)\n",
    "print(\"\\nContents of the list are:\")\n",
    "print(l)"
   ]
  },
  {
   "cell_type": "code",
   "execution_count": 27,
   "metadata": {},
   "outputs": [
    {
     "name": "stdout",
     "output_type": "stream",
     "text": [
      "Sum of the list 0 elements =:  6\n",
      "Sum of the list 1 elements =:  15\n",
      "Sum of the list 2 elements =:  33\n",
      "Sum of the list 3 elements =:  24\n",
      "Maximum sum= 33\n",
      "list having maximum sum:\n",
      "[10, 11, 12]\n"
     ]
    }
   ],
   "source": [
    "# find the list in a list of lists whose sum of elements is the highest\n",
    "l= [[1,2,3], [4,5,6], [10,11,12], [7,8,9]] \n",
    "sumlist=[]\n",
    "i=0\n",
    "for sublist in l:\n",
    "    maxsum=0\n",
    "    sum=0\n",
    "    for item in sublist:\n",
    "        sum=sum+item\n",
    "    print(\"Sum of the list\",i,\"elements =: \",sum)\n",
    "    sumlist.append(sum)\n",
    "    i+=1\n",
    "\n",
    "maxsum=max(sumlist)\n",
    "print(\"Maximum sum=\",maxsum)\n",
    "index=sumlist.index(maxsum)\n",
    "print(\"list having maximum sum:\")\n",
    "print(l[index])"
   ]
  },
  {
   "cell_type": "code",
   "execution_count": 28,
   "metadata": {},
   "outputs": [
    {
     "name": "stdout",
     "output_type": "stream",
     "text": [
      "Fourth element is  4\n",
      "Fourth element from last is  7\n",
      "Element 1 is in tuple: True\n",
      "Index of 5 is  4\n",
      "Number 5  is repeating in the tuple\n",
      "Number 5  is repeating in the tuple\n"
     ]
    }
   ],
   "source": [
    "# get the 4th element and 4th element from last of a tuple.\n",
    "# find the repeated items of a tuple.\n",
    "# check whether an element exists within a tuple.\n",
    "# slice a tuple.\n",
    "# find the index of an item of a tuple.\n",
    "\n",
    "numbers=(1,2,3,4,5,6,7,5,9,10)\n",
    "print(\"Fourth element is \",numbers[3])\n",
    "print(\"Fourth element from last is \",numbers[-4])\n",
    "result= 1 in numbers\n",
    "print(\"Element 1 is in tuple:\",result)\n",
    "index=numbers.index(5)\n",
    "print(\"Index of 5 is \",index)\n",
    "\n",
    "for item in numbers:\n",
    "    if numbers.count(item)>=2:\n",
    "        print(\"Number\", item,\" is repeating in the tuple\")"
   ]
  }
 ],
 "metadata": {
  "kernelspec": {
   "display_name": "Python 3",
   "language": "python",
   "name": "python3"
  },
  "language_info": {
   "codemirror_mode": {
    "name": "ipython",
    "version": 3
   },
   "file_extension": ".py",
   "mimetype": "text/x-python",
   "name": "python",
   "nbconvert_exporter": "python",
   "pygments_lexer": "ipython3",
   "version": "3.8.8"
  }
 },
 "nbformat": 4,
 "nbformat_minor": 2
}
