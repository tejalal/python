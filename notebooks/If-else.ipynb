{
 "cells": [
  {
   "cell_type": "markdown",
   "metadata": {},
   "source": [
    "# if and if-else"
   ]
  },
  {
   "cell_type": "markdown",
   "metadata": {},
   "source": [
    "- if is used when we want to execute certain block of code/statements only if the given conditiomn is True\n",
    "- There are no curly braces { } in Python\n",
    "- Instead of curly braces column (:) is used to form a block as shown below\n",
    "- Relational operators <, >, <=, >=, !- are used form condition\n",
    "\n",
    "#### Syntax:"
   ]
  },
  {
   "cell_type": "raw",
   "metadata": {},
   "source": [
    "if condition:\n",
    "    statements1\n",
    "    statements2\n",
    "    ........\n",
    "statements after if block"
   ]
  },
  {
   "cell_type": "markdown",
   "metadata": {},
   "source": [
    "#### In above syntax statements within the if block will execute only if the given condition evaluated to True"
   ]
  },
  {
   "cell_type": "markdown",
   "metadata": {},
   "source": [
    "### Program: Check whether entered number is even or odd"
   ]
  },
  {
   "cell_type": "code",
   "execution_count": 7,
   "metadata": {},
   "outputs": [
    {
     "name": "stdout",
     "output_type": "stream",
     "text": [
      "Enter any number: 10\n",
      "10 is EVEN\n",
      "This line will always execute\n"
     ]
    }
   ],
   "source": [
    "number = int(input(\"Enter any number: \"))\n",
    "\n",
    "if (number % 2 == 0):\n",
    "    print(number, 'is EVEN')\n",
    "\n",
    "print(\"This line will always execute\")"
   ]
  },
  {
   "cell_type": "markdown",
   "metadata": {},
   "source": [
    "# if-else \n",
    "When the condition becomes False then the statements within else block will execute\n",
    "\n",
    "Syntax:"
   ]
  },
  {
   "cell_type": "raw",
   "metadata": {},
   "source": [
    "if condition:\n",
    "    statements1\n",
    "    statements2\n",
    "else:\n",
    "    statements3\n",
    "    statements4\n",
    "statements after if block"
   ]
  },
  {
   "cell_type": "markdown",
   "metadata": {},
   "source": [
    "### Program: Even/odd"
   ]
  },
  {
   "cell_type": "code",
   "execution_count": 8,
   "metadata": {},
   "outputs": [
    {
     "name": "stdout",
     "output_type": "stream",
     "text": [
      "Enter any number: 11\n",
      "11 is ODD\n",
      "This line will always execute\n"
     ]
    }
   ],
   "source": [
    "number = int(input(\"Enter any number: \"))\n",
    "\n",
    "if (number % 2 == 0):\n",
    "    print(number, 'is EVEN')\n",
    "else:\n",
    "    print(number, 'is ODD')\n",
    "\n",
    "print(\"This line will always execute\")"
   ]
  },
  {
   "cell_type": "markdown",
   "metadata": {},
   "source": [
    "# if-elif-else\n",
    "If-elif-else is used when there are multiple condition to be evlauated\n",
    "\n",
    "Syntax:"
   ]
  },
  {
   "cell_type": "code",
   "execution_count": null,
   "metadata": {
    "collapsed": true
   },
   "outputs": [],
   "source": [
    "if condition1:\n",
    "    statements\n",
    "    ......\n",
    "elif condition2:\n",
    "    statements\n",
    "    ......\n",
    "elif condition3:\n",
    "    statements\n",
    "    ......\n",
    "else:\n",
    "    statements3\n",
    "    ......\n",
    "statements after if block"
   ]
  },
  {
   "cell_type": "markdown",
   "metadata": {},
   "source": [
    "### Program: print the day of the week as per given input (1 to 7), print \"Monday\" if input is 1, \"Tuesday\" if input is 2 and so on..."
   ]
  },
  {
   "cell_type": "code",
   "execution_count": 13,
   "metadata": {},
   "outputs": [
    {
     "name": "stdout",
     "output_type": "stream",
     "text": [
      "Enter any number betwen 1 and 7: 1\n",
      "Toay is Monday\n"
     ]
    }
   ],
   "source": [
    "number = int(input(\"Enter any number betwen 1 and 7: \"))\n",
    "\n",
    "if (number == 1):\n",
    "    print('Toay is Monday')\n",
    "    \n",
    "elif (number == 2):\n",
    "    print('Toay is Tuesday')\n",
    "    \n",
    "elif (number == 3):\n",
    "    print('Toay is Wednesday')\n",
    "    \n",
    "elif (number == 4):\n",
    "    print('Toay is Thursday')\n",
    "\n",
    "elif (number == 5):\n",
    "    print('Toay is Friday')\n",
    "    \n",
    "elif (number == 6):\n",
    "    print('Toay is Saturday')\n",
    "\n",
    "elif (number == 7):\n",
    "    print('Toay is Sunday')\n",
    "    \n",
    "else:\n",
    "    print(\"You have entered and incorerect day number\")"
   ]
  },
  {
   "cell_type": "markdown",
   "metadata": {},
   "source": [
    "# Nested if-else\n",
    "- We can have nested if-else \n",
    "\n",
    "#### Syntax:"
   ]
  },
  {
   "cell_type": "raw",
   "metadata": {},
   "source": [
    "if condition1:\n",
    "    statements\n",
    "    if(condition2):\n",
    "        statements\n",
    "    else:\n",
    "        statements\n",
    "else:\n",
    "    statements"
   ]
  },
  {
   "cell_type": "markdown",
   "metadata": {},
   "source": [
    "### Program using nested if-else"
   ]
  },
  {
   "cell_type": "code",
   "execution_count": 18,
   "metadata": {},
   "outputs": [
    {
     "name": "stdout",
     "output_type": "stream",
     "text": [
      "Enter any number: 4\n",
      "a is less then 10\n",
      "a is also less then 5\n"
     ]
    }
   ],
   "source": [
    "a = int(input(\"Enter any number: \"))\n",
    "if a<10:\n",
    "    print(\"a is less then 10\")\n",
    "    if a<5:\n",
    "        print(\"a is also less then 5\")\n",
    "    else:\n",
    "        print(\"But a is not less then 5\")\n",
    "else:\n",
    "    print(\"a is not less then 10\")"
   ]
  }
 ],
 "metadata": {
  "kernelspec": {
   "display_name": "Python 3",
   "language": "python",
   "name": "python3"
  },
  "language_info": {
   "codemirror_mode": {
    "name": "ipython",
    "version": 3
   },
   "file_extension": ".py",
   "mimetype": "text/x-python",
   "name": "python",
   "nbconvert_exporter": "python",
   "pygments_lexer": "ipython3",
   "version": "3.6.1"
  }
 },
 "nbformat": 4,
 "nbformat_minor": 2
}
