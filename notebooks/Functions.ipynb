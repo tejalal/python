{
 "cells": [
  {
   "cell_type": "markdown",
   "metadata": {},
   "source": [
    "# Functions in python "
   ]
  },
  {
   "cell_type": "raw",
   "metadata": {},
   "source": [
    "Function is used for modularity in the program.\n",
    "\n",
    "def function_name(argument-1, argument-2,argument-3...):\n",
    "    function body\n",
    "    .\n",
    "    .\n",
    "    .\n",
    "    .\n",
    "    .\n",
    "    return var   \n",
    "#function call\n",
    "function_name(10,20,30)"
   ]
  },
  {
   "cell_type": "code",
   "execution_count": 1,
   "metadata": {},
   "outputs": [
    {
     "name": "stdout",
     "output_type": "stream",
     "text": [
      "Enter first number: 4\n",
      "Enter second number: 6\n",
      "GCD is: \n",
      "2\n"
     ]
    }
   ],
   "source": [
    "# compute gcd of two user input numbers, recursive\n",
    "def gcd(a,b):\n",
    "    if(b==0):\n",
    "        return a\n",
    "    else:\n",
    "        return gcd(b,a%b)\n",
    "a=int(input(\"Enter first number: \"))\n",
    "b=int(input(\"Enter second number: \"))\n",
    "GCD=gcd(a,b)\n",
    "print(\"GCD is: \")\n",
    "print(GCD)"
   ]
  },
  {
   "cell_type": "code",
   "execution_count": 2,
   "metadata": {},
   "outputs": [
    {
     "data": {
      "text/plain": [
       "10"
      ]
     },
     "execution_count": 2,
     "metadata": {},
     "output_type": "execute_result"
    }
   ],
   "source": [
    "# compute gcd of two user input numbers, Non recursive\n",
    "def computeGCD(x, y):\n",
    "   # Euclidian algorithm to find GCD of two numbers\n",
    "    while(y):\n",
    "        x, y = y, x % y\n",
    "    return x\n",
    "computeGCD(40, 50)"
   ]
  },
  {
   "cell_type": "code",
   "execution_count": 4,
   "metadata": {},
   "outputs": [
    {
     "name": "stdout",
     "output_type": "stream",
     "text": [
      "432\n"
     ]
    }
   ],
   "source": [
    "# reverse a number\n",
    "def reverse(number):\n",
    "    sum=0\n",
    "    while number!=0:\n",
    "        r=number%10\n",
    "        sum=sum*10+r\n",
    "        number//=10\n",
    "    return sum\n",
    "\n",
    "print(reverse(234))"
   ]
  },
  {
   "cell_type": "code",
   "execution_count": 6,
   "metadata": {},
   "outputs": [
    {
     "name": "stdout",
     "output_type": "stream",
     "text": [
      "Prime numbers between 5 and 10 are:\n",
      "5\n",
      "7\n"
     ]
    }
   ],
   "source": [
    "# prime numbers between 5 and 10\n",
    "def primeRange(start, end):\n",
    "    for num in range(start,end):\n",
    "        prime = True\n",
    "        for i in range(2,num):\n",
    "            if (num%i==0):\n",
    "                prime = False\n",
    "        if prime:\n",
    "            print (num)\n",
    "start= 5\n",
    "end = 10\n",
    "print(\"Prime numbers between\", start, \"and\", end, \"are:\")\n",
    "primeRange(start,end)"
   ]
  },
  {
   "cell_type": "code",
   "execution_count": 7,
   "metadata": {},
   "outputs": [
    {
     "name": "stdout",
     "output_type": "stream",
     "text": [
      "Result= 16\n"
     ]
    }
   ],
   "source": [
    "# power without using power function\n",
    "def pow1(m,n):\n",
    "    power=1\n",
    "    while (n != 0):\n",
    "        power = power * m;\n",
    "        n = n - 1;\n",
    "    return power\n",
    "\n",
    "result=pow1(2,4)\n",
    "print(\"Result=\",result)"
   ]
  },
  {
   "cell_type": "code",
   "execution_count": 8,
   "metadata": {},
   "outputs": [
    {
     "name": "stdout",
     "output_type": "stream",
     "text": [
      "Result= 16\n"
     ]
    }
   ],
   "source": [
    "# for loop\n",
    "def power2(base, num):\n",
    "    result = 1\n",
    "    for i in range(1, num+1):\n",
    "        result = result * base;\n",
    "    return result;\n",
    "print(\"Result=\",power2(2,4))"
   ]
  },
  {
   "cell_type": "code",
   "execution_count": 9,
   "metadata": {},
   "outputs": [
    {
     "name": "stdout",
     "output_type": "stream",
     "text": [
      "Enter a number: 5\n",
      "The factorial of 5 is 120\n"
     ]
    }
   ],
   "source": [
    "# factorial using recursion\n",
    "def recur_factorial(n):\n",
    "    if n == 1:\n",
    "        return n\n",
    "    else:\n",
    "        return n*recur_factorial(n-1)\n",
    "\n",
    "num = int(input(\"Enter a number: \"))\n",
    "if num < 0:\n",
    "    print(\"Sorry, factorial does not exist for negative numbers\")\n",
    "elif num == 0:\n",
    "    print(\"The factorial of 0 is 1\")\n",
    "else:\n",
    "    print(\"The factorial of\",num,\"is\",recur_factorial(num))"
   ]
  },
  {
   "cell_type": "code",
   "execution_count": 11,
   "metadata": {},
   "outputs": [
    {
     "name": "stdout",
     "output_type": "stream",
     "text": [
      "Enter negative number to exit \n",
      "Enter x: 100\n",
      "Enter n: 2\n",
      "25\n",
      "Enter x: -5\n",
      "Enter n: 1\n"
     ]
    }
   ],
   "source": [
    "# right shift by n bits\n",
    "def rightshift(x,n):\n",
    "    for i in range(n):\n",
    "        x=x//2\n",
    "    return x\n",
    "\n",
    "print('Enter negative number to exit ')\n",
    "while(True):\n",
    "    x=int(input('Enter x: '))\n",
    "    n=int(input('Enter n: '))\n",
    "    if(n<0 or x<0):\n",
    "        break\n",
    "    if x<=65535:\n",
    "        print(rightshift(x,n))\n",
    "    else:\n",
    "        break"
   ]
  },
  {
   "cell_type": "code",
   "execution_count": 12,
   "metadata": {},
   "outputs": [
    {
     "name": "stdout",
     "output_type": "stream",
     "text": [
      "34.0\n"
     ]
    }
   ],
   "source": [
    "# sum of the series 1!/1+2!/2+3!/3+4!/4+5!/5\n",
    "import math\n",
    "def series_sum():\n",
    "    sol=0\n",
    "    for i in range(1,6):\n",
    "        sol=sol + (math.factorial(i)/i)\n",
    "    print(sol)\n",
    "\n",
    "series_sum()"
   ]
  },
  {
   "cell_type": "code",
   "execution_count": 15,
   "metadata": {
    "scrolled": true
   },
   "outputs": [
    {
     "name": "stdout",
     "output_type": "stream",
     "text": [
      "Enter m: 10\n",
      "55\n"
     ]
    }
   ],
   "source": [
    "# nth term in Fibonacci series using recursion\n",
    "def fibonacci(n):\n",
    "    if n == 0:\n",
    "        return 0\n",
    "    elif n==1:\n",
    "        return 1\n",
    "    else:\n",
    "        return(fibonacci(n-1) + fibonacci(n-2))\n",
    "\n",
    "m = int(input(\"Enter m: \"))\n",
    "print(fibonacci(m))"
   ]
  },
  {
   "cell_type": "code",
   "execution_count": 18,
   "metadata": {
    "scrolled": true
   },
   "outputs": [
    {
     "name": "stdout",
     "output_type": "stream",
     "text": [
      "Enter 1 to convert decimal to octal \n",
      " Enter 2 to convert octal to decimal\n",
      "1\n",
      "Enter decimal number: 10\n",
      "12\n"
     ]
    }
   ],
   "source": [
    "# Convert octal Number to decimal and vice-versa\n",
    "def dec2oct(n):\n",
    "    octalNumber = 0\n",
    "    i = 1\n",
    "    while (n != 0):   \n",
    "        octalNumber += (n % 8) * i\n",
    "        n//= 8\n",
    "        i *= 10    \n",
    "    return octalNumber\n",
    "\n",
    "def oct2dec(n):\n",
    "    decimalNumber = 0\n",
    "    i = 0\n",
    "    while(n != 0):\n",
    "        decimalNumber += (n%10) * pow(8,i)\n",
    "        i=i+1\n",
    "        n//=10\n",
    "    i = 1\n",
    "    return decimalNumber\n",
    "\n",
    "print('Enter 1 to convert decimal to octal \\n Enter 2 to convert octal to decimal')\n",
    "choice=int(input())\n",
    "if (choice==1):\n",
    "    n=int(input(\"Enter decimal number: \"))\n",
    "    print(dec2oct(n))\n",
    "elif choice==2:\n",
    "    n=int(input(\"Enter octal number: \"))\n",
    "    print(oct2dec(n))\n",
    "else:\n",
    "    print('Invalid input')\n"
   ]
  },
  {
   "cell_type": "code",
   "execution_count": 19,
   "metadata": {},
   "outputs": [
    {
     "name": "stdout",
     "output_type": "stream",
     "text": [
      "Current date and time is:\n",
      "2021-12-06 00:17:05.461414\n"
     ]
    }
   ],
   "source": [
    "# show current date time\n",
    "import datetime\n",
    "def showtime():\n",
    "    print(datetime.datetime.now())\n",
    "\n",
    "print('Current date and time is:')\n",
    "showtime()"
   ]
  },
  {
   "cell_type": "code",
   "execution_count": 23,
   "metadata": {},
   "outputs": [
    {
     "name": "stdout",
     "output_type": "stream",
     "text": [
      "Real roots are -2.0 -3.0\n",
      "Roots are imaginary\n"
     ]
    }
   ],
   "source": [
    "# roots of a quadratic equation\n",
    "import math\n",
    "def roots(a,b,c):\n",
    "    if a<0:\n",
    "        print('Not a quadratic')\n",
    "    else:\n",
    "        d=b*b-4*a*c\n",
    "        if d>0:\n",
    "            root1=(-b+math.sqrt(d))/ (2*a)\n",
    "            root2=(-b-math.sqrt(d))/ (2*a)\n",
    "            print('Real roots are', root1, root2)\n",
    "        elif d==0:\n",
    "            root= -b/ (2*a)\n",
    "            print('Equal roots are: ', root)\n",
    "        else:\n",
    "            print('Roots are imaginary')   \n",
    "#Function calling\n",
    "roots(1,5,6)\n",
    "roots(1,2,5)"
   ]
  },
  {
   "cell_type": "code",
   "execution_count": 27,
   "metadata": {},
   "outputs": [
    {
     "name": "stdout",
     "output_type": "stream",
     "text": [
      "Enter a number: 5\n",
      "(25, 2.23606797749979)\n"
     ]
    }
   ],
   "source": [
    "# return multiple arguments\n",
    "import math\n",
    "def compute(num):\n",
    "    return num*num, math.sqrt(num)\n",
    "\n",
    "n=int(input('Enter a number: '))\n",
    "print(compute(n))"
   ]
  },
  {
   "cell_type": "code",
   "execution_count": 29,
   "metadata": {},
   "outputs": [
    {
     "name": "stdout",
     "output_type": "stream",
     "text": [
      "Python\n",
      "Python is awesome\n",
      "Python is awesome\n"
     ]
    }
   ],
   "source": [
    "def f(): \n",
    "    global s\n",
    "    print(s) \n",
    "    s = \"Python is awesome\"\n",
    "    print (s)  \n",
    "    \n",
    "s = \"Python\" # Global Scope\n",
    "f()\n",
    "print(s)"
   ]
  },
  {
   "cell_type": "markdown",
   "metadata": {},
   "source": [
    "##  Functions with default arguments"
   ]
  },
  {
   "cell_type": "code",
   "execution_count": 20,
   "metadata": {},
   "outputs": [
    {
     "name": "stdout",
     "output_type": "stream",
     "text": [
      "Enter your name: Sachin\n",
      "Welcome! Sachin\n",
      "Enter a message: wow\n",
      "wow Sachin\n"
     ]
    }
   ],
   "source": [
    "def greet(name, msg='Welcome!'):\n",
    "    print(msg, name)\n",
    "\n",
    "name=input('Enter your name: ')\n",
    "greet(name)\n",
    "msg=input('Enter a message: ')\n",
    "greet(name,msg)"
   ]
  },
  {
   "cell_type": "code",
   "execution_count": 21,
   "metadata": {
    "scrolled": true
   },
   "outputs": [
    {
     "name": "stdout",
     "output_type": "stream",
     "text": [
      "Volume with length=2, width=2, height=3= 12\n",
      "Volume with length=2, width=3, height=3= 18\n",
      "Volume with length=2, width=3, height=4= 24\n"
     ]
    }
   ],
   "source": [
    "def volume(length, width=2, height=3):\n",
    "    vol=length*width*height\n",
    "    return vol\n",
    "print('Volume with length=2, width=2, height=3=',volume(2))\n",
    "print('Volume with length=2, width=3, height=3=',volume(2,3))\n",
    "print('Volume with length=2, width=3, height=4=',volume(2,3,4))"
   ]
  },
  {
   "cell_type": "code",
   "execution_count": null,
   "metadata": {},
   "outputs": [],
   "source": []
  },
  {
   "cell_type": "markdown",
   "metadata": {},
   "source": [
    "## Variable Length arguments with *"
   ]
  },
  {
   "cell_type": "code",
   "execution_count": 22,
   "metadata": {
    "scrolled": false
   },
   "outputs": [
    {
     "name": "stdout",
     "output_type": "stream",
     "text": [
      "6\n",
      "40\n"
     ]
    }
   ],
   "source": [
    "def mul(*args):\n",
    "    p=1\n",
    "    for i in args:\n",
    "        p=p*i\n",
    "    print(p)\n",
    "mul(2,3,1)\n",
    "mul(1,4,2,5)"
   ]
  },
  {
   "cell_type": "markdown",
   "metadata": {},
   "source": [
    "## Lambda functions"
   ]
  },
  {
   "cell_type": "code",
   "execution_count": 26,
   "metadata": {},
   "outputs": [
    {
     "name": "stdout",
     "output_type": "stream",
     "text": [
      "125\n"
     ]
    }
   ],
   "source": [
    "def func(n):\n",
    "    y= (lambda x: x*x*x) \n",
    "    return (y(n))\n",
    "  \n",
    "print(func(5))"
   ]
  },
  {
   "cell_type": "code",
   "execution_count": null,
   "metadata": {},
   "outputs": [],
   "source": []
  },
  {
   "cell_type": "code",
   "execution_count": null,
   "metadata": {},
   "outputs": [],
   "source": []
  }
 ],
 "metadata": {
  "kernelspec": {
   "display_name": "Python 3",
   "language": "python",
   "name": "python3"
  },
  "language_info": {
   "codemirror_mode": {
    "name": "ipython",
    "version": 3
   },
   "file_extension": ".py",
   "mimetype": "text/x-python",
   "name": "python",
   "nbconvert_exporter": "python",
   "pygments_lexer": "ipython3",
   "version": "3.8.8"
  }
 },
 "nbformat": 4,
 "nbformat_minor": 2
}
