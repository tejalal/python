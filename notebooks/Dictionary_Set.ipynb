{
 "cells": [
  {
   "cell_type": "markdown",
   "metadata": {},
   "source": [
    "# Dictionary and [Set](#Sets)\n",
    "\n",
    "## Dictionary"
   ]
  },
  {
   "cell_type": "markdown",
   "metadata": {},
   "source": [
    "Python dictionary is an unordered collection of items. While other compound data types have only value as an element, a dictionary has a key: value pair. Dictionaries are optimized to retrieve values when the key is known."
   ]
  },
  {
   "cell_type": "markdown",
   "metadata": {},
   "source": [
    "- Creation of dictionary!\n",
    " - Creating a dictionary is as simple as placing items inside curly braces {} separated by comma.\n",
    " - An item has a key and the corresponding value expressed as a pair, key: value.\n",
    " - While values can be of any data type and can repeat, keys must be of immutable type (string, number or tuple with immutable elements) and must be unique"
   ]
  },
  {
   "cell_type": "markdown",
   "metadata": {},
   "source": [
    "#### General Syntax:\n",
    "    \n",
    "    dictionary_name = {key_1: value_1,\n",
    "                   key_2: value_2,\n",
    "                   key_3: value_3,\n",
    "                   }"
   ]
  },
  {
   "cell_type": "code",
   "execution_count": 53,
   "metadata": {
    "scrolled": true
   },
   "outputs": [
    {
     "data": {
      "text/plain": [
       "{'India': 'Delhi', 'semester': 1, 'color': 'red'}"
      ]
     },
     "execution_count": 53,
     "metadata": {},
     "output_type": "execute_result"
    }
   ],
   "source": [
    "# creating simple dictionary of 3 elements\n",
    "mydict = {'India': 'Delhi', 'semester': 1, 'color': 'red'}\n",
    "mydict"
   ]
  },
  {
   "cell_type": "code",
   "execution_count": 54,
   "metadata": {},
   "outputs": [
    {
     "data": {
      "text/plain": [
       "'Delhi'"
      ]
     },
     "execution_count": 54,
     "metadata": {},
     "output_type": "execute_result"
    }
   ],
   "source": [
    "# print single element using key\n",
    "mydict['India']"
   ]
  },
  {
   "cell_type": "code",
   "execution_count": 55,
   "metadata": {
    "scrolled": true
   },
   "outputs": [
    {
     "name": "stdout",
     "output_type": "stream",
     "text": [
      "2\n"
     ]
    },
    {
     "data": {
      "text/plain": [
       "{'India': 'Delhi', 'semester': 2, 'color': 'red'}"
      ]
     },
     "execution_count": 55,
     "metadata": {},
     "output_type": "execute_result"
    }
   ],
   "source": [
    "# add 1 to '' value\n",
    "mydict['semester'] += 1\n",
    "print(mydict['semester'])\n",
    "mydict"
   ]
  },
  {
   "cell_type": "code",
   "execution_count": null,
   "metadata": {},
   "outputs": [],
   "source": []
  },
  {
   "cell_type": "code",
   "execution_count": 56,
   "metadata": {},
   "outputs": [
    {
     "name": "stdout",
     "output_type": "stream",
     "text": [
      "{1: 'apple', 2: 'ball'}\n",
      "{'name': 'John', 1: [2, 4, 3]}\n",
      "{1: 'apple', 2: 'ball'}\n",
      "{1: 'apple', 2: 'ball'}\n"
     ]
    }
   ],
   "source": [
    "# empty dictionary\n",
    "my_dict = {}\n",
    "\n",
    "# dictionary with integer keys\n",
    "my_dict = {1: 'apple', 2: 'ball'}\n",
    "print(my_dict)\n",
    "\n",
    "# dictionary with mixed keys\n",
    "my_dict = {'name': 'John', 1: [2, 4, 3]}\n",
    "print(my_dict)\n",
    "\n",
    "# we can also create a dictionary using the built-in function dict()\n",
    "# using dict()\n",
    "my_dict = dict({1:'apple', 2:'ball'})\n",
    "print(my_dict)\n",
    "\n",
    "# from sequence having each item as a pair\n",
    "my_dict = dict([(1,'apple'), (2,'ball')])\n",
    "print(my_dict)"
   ]
  },
  {
   "cell_type": "markdown",
   "metadata": {},
   "source": [
    "### Accessing the Dictionary element"
   ]
  },
  {
   "cell_type": "code",
   "execution_count": 57,
   "metadata": {},
   "outputs": [
    {
     "name": "stdout",
     "output_type": "stream",
     "text": [
      "Jack\n",
      "26\n"
     ]
    }
   ],
   "source": [
    "my_dict = {'name':'Jack', 'age': 26}\n",
    "print(my_dict['name'])\n",
    "\n",
    "# Using Get Function\n",
    "print(my_dict.get('age'))\n",
    "\n",
    "# Trying to access keys which doesn't exist throws error\n",
    "my_dict.get('address')\n",
    "#my_dict['address'] # will throw error"
   ]
  },
  {
   "cell_type": "code",
   "execution_count": 58,
   "metadata": {},
   "outputs": [
    {
     "name": "stdout",
     "output_type": "stream",
     "text": [
      "{'name': 'Jack', 'age': 27}\n",
      "{'name': 'Jack', 'age': 27, 'address': 'Downtown'}\n"
     ]
    }
   ],
   "source": [
    "# updating value\n",
    "# If the key is already present, value gets updated, \n",
    "# else a new key: value pair is added to the dictionary.\n",
    "\n",
    "my_dict = {'name':'Jack', 'age': 26}\n",
    "\n",
    "# update value\n",
    "my_dict['age'] = 27\n",
    "print(my_dict)\n",
    "\n",
    "# add item\n",
    "my_dict['address'] = 'Downtown'  \n",
    "print(my_dict)"
   ]
  },
  {
   "cell_type": "code",
   "execution_count": 59,
   "metadata": {
    "scrolled": false
   },
   "outputs": [
    {
     "name": "stdout",
     "output_type": "stream",
     "text": [
      "16\n",
      "{1: 1, 2: 4, 3: 9, 5: 25}\n",
      "(5, 25)\n",
      "{1: 1, 2: 4, 3: 9}\n",
      "{1: 1, 3: 9}\n",
      "{}\n"
     ]
    }
   ],
   "source": [
    "# delettion \n",
    "squares = {1:1, 2:4, 3:9, 4:16, 5:25}  \n",
    "\n",
    "# remove a particular item\n",
    "print(squares.pop(4))  \n",
    "print(squares)\n",
    "\n",
    "# remove an arbitrary item\n",
    "print(squares.popitem())\n",
    "print(squares)\n",
    "\n",
    "# delete a particular item\n",
    "del squares[2]  \n",
    "print(squares)\n",
    "\n",
    "# remove all items\n",
    "squares.clear()\n",
    "print(squares)\n",
    "\n",
    "# delete the dictionary itself\n",
    "del squares\n",
    "#print(squares) # will throw error"
   ]
  },
  {
   "cell_type": "markdown",
   "metadata": {},
   "source": [
    "### Iterate over keys"
   ]
  },
  {
   "cell_type": "code",
   "execution_count": 60,
   "metadata": {},
   "outputs": [
    {
     "name": "stdout",
     "output_type": "stream",
     "text": [
      "\n",
      " Key: name\n",
      " Value: Sachine\n",
      "\n",
      " Key: type\n",
      " Value: Cricketer\n",
      "\n",
      " Key: pincode\n",
      " Value: 432012\n"
     ]
    }
   ],
   "source": [
    "mydict={}\n",
    "# create keys by assignment\n",
    "mydict['name'] = 'Sachine'\n",
    "mydict['type'] = 'Cricketer'\n",
    "mydict['pincode'] = 432012\n",
    "mydict\n",
    "\n",
    "for key in mydict:\n",
    "    print(\"\\n Key:\", key)\n",
    "    print(\" Value:\", mydict[key])"
   ]
  },
  {
   "cell_type": "markdown",
   "metadata": {},
   "source": [
    "### Iterating over values"
   ]
  },
  {
   "cell_type": "code",
   "execution_count": 61,
   "metadata": {},
   "outputs": [
    {
     "name": "stdout",
     "output_type": "stream",
     "text": [
      "Sachine\n",
      "Cricketer\n",
      "432012\n"
     ]
    }
   ],
   "source": [
    "for value in mydict.values():\n",
    "    print(value)"
   ]
  },
  {
   "cell_type": "markdown",
   "metadata": {},
   "source": [
    "### Iterate over key-value pair"
   ]
  },
  {
   "cell_type": "code",
   "execution_count": 62,
   "metadata": {},
   "outputs": [
    {
     "name": "stdout",
     "output_type": "stream",
     "text": [
      "name  :  Sachine\n",
      "type  :  Cricketer\n",
      "pincode  :  432012\n"
     ]
    }
   ],
   "source": [
    "for key, value in mydict.items():\n",
    "    print(key,\" : \",value)"
   ]
  },
  {
   "cell_type": "markdown",
   "metadata": {},
   "source": [
    "### Nested dictionary"
   ]
  },
  {
   "cell_type": "code",
   "execution_count": 63,
   "metadata": {},
   "outputs": [
    {
     "data": {
      "text/plain": [
       "{'name': {'first': 'Sachin', 'last': 'Tendulkar'},\n",
       " 'job': ['Cricketer', 'Trainer'],\n",
       " 'age': 40.5}"
      ]
     },
     "execution_count": 63,
     "metadata": {},
     "output_type": "execute_result"
    }
   ],
   "source": [
    "record = {'name': {'first': 'Sachin', 'last': 'Tendulkar'}, \n",
    "       'job': ['Cricketer', 'Trainer'],\n",
    "       'age': 40.5\n",
    "      }\n",
    "record"
   ]
  },
  {
   "cell_type": "code",
   "execution_count": 64,
   "metadata": {},
   "outputs": [
    {
     "data": {
      "text/plain": [
       "{'first': 'Sachin', 'last': 'Tendulkar'}"
      ]
     },
     "execution_count": 64,
     "metadata": {},
     "output_type": "execute_result"
    }
   ],
   "source": [
    "record['name']"
   ]
  },
  {
   "cell_type": "code",
   "execution_count": 65,
   "metadata": {},
   "outputs": [
    {
     "name": "stdout",
     "output_type": "stream",
     "text": [
      "Sachin\n",
      "Trainer\n"
     ]
    }
   ],
   "source": [
    "print(record['name']['first'])\n",
    "print(record['job'][-1])"
   ]
  },
  {
   "cell_type": "code",
   "execution_count": 66,
   "metadata": {
    "scrolled": true
   },
   "outputs": [
    {
     "data": {
      "text/plain": [
       "{'name': {'first': 'Sachin', 'last': 'Tendulkar'},\n",
       " 'job': ['Cricketer', 'Trainer', 'Politician'],\n",
       " 'age': 40.5}"
      ]
     },
     "execution_count": 66,
     "metadata": {},
     "output_type": "execute_result"
    }
   ],
   "source": [
    "record['job'].append('Politician')\n",
    "record"
   ]
  },
  {
   "cell_type": "markdown",
   "metadata": {},
   "source": [
    "### zip two list into dictionary"
   ]
  },
  {
   "cell_type": "code",
   "execution_count": 44,
   "metadata": {},
   "outputs": [
    {
     "name": "stdout",
     "output_type": "stream",
     "text": [
      "India  :  Delhi\n",
      "Pakistan  :  Islamabad\n",
      "Nepal  :  Kathmandu\n"
     ]
    }
   ],
   "source": [
    "counties = ['India', 'Pakistan', 'Nepal']\n",
    "capitals = ['Delhi', 'Islamabad', 'Kathmandu']\n",
    "\n",
    "combined = dict(zip(counties,capitals))\n",
    "\n",
    "for country, capital in combined.items():\n",
    "    print(country,\" : \",capital)"
   ]
  },
  {
   "cell_type": "code",
   "execution_count": 46,
   "metadata": {},
   "outputs": [
    {
     "name": "stdout",
     "output_type": "stream",
     "text": [
      "\n",
      "Question: A collection of values that are not connected, but have an order.\n",
      "\n",
      "What word do you think this is?\n",
      "list  dictionary  function  \n",
      "\n",
      " Enter your guess: list\n",
      "Congratulations ! You got it !\n",
      "\n",
      "Question: A collection of key-value pairs.\n",
      "\n",
      "What word do you think this is?\n",
      "list  dictionary  function  \n",
      "\n",
      " Enter your guess: dictionary\n",
      "Congratulations ! You got it !\n",
      "\n",
      "Question: A named set of instructions that defines a set of actions in Python.\n",
      "\n",
      "What word do you think this is?\n",
      "list  dictionary  function  \n",
      "\n",
      " Enter your guess: function\n",
      "Congratulations ! You got it !\n"
     ]
    }
   ],
   "source": [
    "def show_words(python_words):\n",
    "    display_message = \"\"\n",
    "    for word in python_words.keys():\n",
    "        display_message += word + '  '\n",
    "    print (display_message)\n",
    "\n",
    "python_words = {'list': 'A collection of values that are not connected, but have an order.',\n",
    "                'dictionary': 'A collection of key-value pairs.',\n",
    "                'function': 'A named set of instructions that defines a set of actions in Python.',\n",
    "                }\n",
    "\n",
    "for meaning in python_words.values():\n",
    "    print(\"\\nQuestion: %s\" % meaning)\n",
    "\n",
    "    correct = False\n",
    "    while not correct:\n",
    "        print(\"\\nWhat word do you think this is?\")\n",
    "        show_words(python_words)\n",
    "        guessed_word = input(\"\\n Enter your guess: \")    \n",
    "        \n",
    "        if python_words[guessed_word] == meaning:\n",
    "            print(\"Congratulations ! You got it !\")\n",
    "            correct = True\n",
    "        else:\n",
    "            print(\"Sorry, that's just not the right word.\")"
   ]
  },
  {
   "cell_type": "markdown",
   "metadata": {},
   "source": [
    "# <a name='Sets'></a>Sets\n",
    "- A set object is an unordered collection of distinct hashable objects. \n",
    "- Common uses include membership testing, removing duplicates from a sequence, and \n",
    "- computing mathematical operations such as intersection, union, difference, and symmetric difference."
   ]
  },
  {
   "cell_type": "code",
   "execution_count": 67,
   "metadata": {},
   "outputs": [
    {
     "data": {
      "text/plain": [
       "{'India', 'JAPAN', 'USA'}"
      ]
     },
     "execution_count": 67,
     "metadata": {},
     "output_type": "execute_result"
    }
   ],
   "source": [
    "countries = ['India','USA','India','JAPAN']\n",
    "set_of_countries = set(countries)\n",
    "set_of_countries"
   ]
  },
  {
   "cell_type": "code",
   "execution_count": 68,
   "metadata": {},
   "outputs": [
    {
     "name": "stdout",
     "output_type": "stream",
     "text": [
      "India\n",
      "JAPAN\n",
      "USA\n"
     ]
    }
   ],
   "source": [
    "for country in set_of_countries:\n",
    "    print(country)"
   ]
  },
  {
   "cell_type": "code",
   "execution_count": 69,
   "metadata": {},
   "outputs": [
    {
     "name": "stdout",
     "output_type": "stream",
     "text": [
      "{'China', 'India', 'JAPAN', 'USA'}\n",
      "{'China', 'JAPAN', 'Australia', 'India', 'USA'}\n"
     ]
    }
   ],
   "source": [
    "set_of_countries.add('China') \n",
    "print(set_of_countries)\n",
    "\n",
    "set_of_countries.add('Australia') \n",
    "print(set_of_countries)"
   ]
  },
  {
   "cell_type": "code",
   "execution_count": 70,
   "metadata": {},
   "outputs": [
    {
     "name": "stdout",
     "output_type": "stream",
     "text": [
      "India is in the set:  True\n",
      "UK is in the set: False\n"
     ]
    }
   ],
   "source": [
    "# check for existence\n",
    "print('India is in the set: ', ('India' in set_of_countries))\n",
    "print('UK is in the set:', ('UK' in set_of_countries))"
   ]
  },
  {
   "cell_type": "code",
   "execution_count": 71,
   "metadata": {},
   "outputs": [
    {
     "name": "stdout",
     "output_type": "stream",
     "text": [
      "{'India', 'USA'}\n",
      "{'China', 'India', 'Australia', 'JAPAN', 'USA'}\n"
     ]
    },
    {
     "data": {
      "text/plain": [
       "{'Australia', 'China', 'JAPAN'}"
      ]
     },
     "execution_count": 71,
     "metadata": {},
     "output_type": "execute_result"
    }
   ],
   "source": [
    "# set operations\n",
    "favourite_countries=set(['India', 'USA'])\n",
    "\n",
    "# Intersection\n",
    "intersection = set_of_countries.intersection(favourite_countries)\n",
    "print(intersection)\n",
    "\n",
    "# Union\n",
    "union = set_of_countries.union(favourite_countries)\n",
    "print(union)\n",
    "\n",
    "# difference\n",
    "set_of_countries.difference(favourite_countries)"
   ]
  }
 ],
 "metadata": {
  "kernelspec": {
   "display_name": "Python 3",
   "language": "python",
   "name": "python3"
  },
  "language_info": {
   "codemirror_mode": {
    "name": "ipython",
    "version": 3
   },
   "file_extension": ".py",
   "mimetype": "text/x-python",
   "name": "python",
   "nbconvert_exporter": "python",
   "pygments_lexer": "ipython3",
   "version": "3.8.8"
  }
 },
 "nbformat": 4,
 "nbformat_minor": 2
}
