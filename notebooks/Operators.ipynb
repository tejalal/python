{
 "cells": [
  {
   "cell_type": "markdown",
   "metadata": {},
   "source": [
    "# Operators in Python"
   ]
  },
  {
   "cell_type": "markdown",
   "metadata": {},
   "source": [
    "### Various types of operators in Python are:\n",
    " - Arithmetic (+, - *, / and %(Modulus Operator))\n",
    " - Relational (<, >, <=, >=, !=)\n",
    " - Comparision (==)\n",
    " - Asignment (=)\n",
    " - Bitwise (and, or)\n",
    " - Logical (&&, |)\n",
    " - Shift (<<, >>)\n",
    " "
   ]
  },
  {
   "cell_type": "markdown",
   "metadata": {},
   "source": [
    "### Arithmetic Operatrors"
   ]
  },
  {
   "cell_type": "code",
   "execution_count": 3,
   "metadata": {},
   "outputs": [
    {
     "name": "stdout",
     "output_type": "stream",
     "text": [
      "35\n",
      "15\n",
      "250\n",
      "2.5\n",
      "2\n",
      "5\n"
     ]
    }
   ],
   "source": [
    "number1 = 25\n",
    "number2 = 10\n",
    "\n",
    "print(number1 + number2)\n",
    "print(number1 - number2)\n",
    "print(number1 * number2)\n",
    "print(number1 / number2)\n",
    "print(number1 // number2) # // performs integer divison\n",
    "print(number1 % number2) # returns remainder"
   ]
  },
  {
   "cell_type": "markdown",
   "metadata": {},
   "source": [
    "### Relational Operators\n",
    "\n",
    "- Python True or False as a result of evaluating any condition or comparision\n",
    "- Relational operators are used to form the condition"
   ]
  },
  {
   "cell_type": "code",
   "execution_count": 8,
   "metadata": {},
   "outputs": [
    {
     "name": "stdout",
     "output_type": "stream",
     "text": [
      " a is less then b :  True\n",
      " a is greater then b :  False\n",
      " a is less then or equal to b :  True\n",
      " a is greater then or equal to b :  False\n",
      " a is not equal to b :  True\n"
     ]
    }
   ],
   "source": [
    "a = 10\n",
    "b = 20\n",
    "\n",
    "print(\" a is less then b : \", a<b)\n",
    "print(\" a is greater then b : \", a>b)\n",
    "print(\" a is less then or equal to b : \", a<=b)\n",
    "print(\" a is greater then or equal to b : \", a>=b)\n",
    "print(\" a is not equal to b : \", a!=b)"
   ]
  },
  {
   "cell_type": "markdown",
   "metadata": {},
   "source": [
    "### Comparision operator (==)"
   ]
  },
  {
   "cell_type": "code",
   "execution_count": 9,
   "metadata": {},
   "outputs": [
    {
     "name": "stdout",
     "output_type": "stream",
     "text": [
      "False\n"
     ]
    }
   ],
   "source": [
    "a = 10 \n",
    "n = 20\n",
    "print(a==b)"
   ]
  },
  {
   "cell_type": "markdown",
   "metadata": {},
   "source": [
    "### Logical Operators (and, or, not)\n",
    "Logical operators are used to combine conditions"
   ]
  },
  {
   "cell_type": "code",
   "execution_count": 34,
   "metadata": {
    "scrolled": true
   },
   "outputs": [
    {
     "name": "stdout",
     "output_type": "stream",
     "text": [
      "True\n",
      "True\n",
      "True\n",
      "False\n"
     ]
    }
   ],
   "source": [
    "print(5<10 and 10>5) # retruns true only when both condition are true\n",
    "print(5<10 or 10>5) # Return True if any one condition is true\n",
    "print(5<10)\n",
    "print(not(5<10)) # Changes the resul tof the cndition"
   ]
  },
  {
   "cell_type": "markdown",
   "metadata": {},
   "source": [
    "#### One more program to better understand the concept"
   ]
  },
  {
   "cell_type": "code",
   "execution_count": 28,
   "metadata": {},
   "outputs": [
    {
     "name": "stdout",
     "output_type": "stream",
     "text": [
      "a and b is False\n",
      "a or b is True\n",
      "not a is False\n"
     ]
    }
   ],
   "source": [
    "a = True\n",
    "b = False\n",
    "print('a and b is',a and b)\n",
    "print('a or b is',a or b)\n",
    "print('not a is',not a)"
   ]
  },
  {
   "cell_type": "markdown",
   "metadata": {},
   "source": [
    "### Shift operators: left shift(<<), right shift(>>) "
   ]
  },
  {
   "cell_type": "code",
   "execution_count": 26,
   "metadata": {
    "scrolled": false
   },
   "outputs": [
    {
     "name": "stdout",
     "output_type": "stream",
     "text": [
      "16\n",
      "4\n",
      "\n",
      "\n",
      "binary of 8 is:  1000\n",
      "After left shifting by 1:  10000\n",
      "After right shifting by 1:  100\n",
      "\n",
      "\n",
      "32\n",
      "2\n"
     ]
    }
   ],
   "source": [
    "n=8\n",
    "print(n<<1) # equivalent to multiplying the number by 2\n",
    "print(n>>1) # equivalent to dividing the number by 2\n",
    "\n",
    "print(\"\\n\")\n",
    "print('binary of',n,'is: ', format(n,'b'))\n",
    "print(\"After left shifting by 1: \", format(n<<1,'b'))\n",
    "print(\"After right shifting by 1: \", format(n>>1,'b'))\n",
    "\n",
    "print(\"\\n\")\n",
    "print(n<<2) # equivalent to multiplying the number by 4\n",
    "print(n>>2) # equivalent to dividing the number by 4"
   ]
  },
  {
   "cell_type": "markdown",
   "metadata": {},
   "source": [
    "### Bitwise operators: and(&) or(|) and xor(^)"
   ]
  },
  {
   "cell_type": "code",
   "execution_count": 42,
   "metadata": {},
   "outputs": [
    {
     "name": "stdout",
     "output_type": "stream",
     "text": [
      "x&y :  4\n",
      "x|y:  5\n",
      "x^y:  1\n"
     ]
    }
   ],
   "source": [
    "x=4 # binary is 100\n",
    "y=5 # binary is 101\n",
    "print(\"x&y : \",x&y) # returns bitwise multiplication of the numbers\n",
    "\n",
    "print(\"x|y: \",x|y) # returns bitwise adition of the number\n",
    "\n",
    "print(\"x^y: \",x^y) # performs XOR operation, output bit is o, if any both bits are same"
   ]
  },
  {
   "cell_type": "markdown",
   "metadata": {},
   "source": [
    "# IN Operator\n",
    "- IN operator is used to check whether one value exist in other or not.\n",
    "- It returns True if the value exist otherwise returs False"
   ]
  },
  {
   "cell_type": "code",
   "execution_count": 47,
   "metadata": {},
   "outputs": [
    {
     "name": "stdout",
     "output_type": "stream",
     "text": [
      "True\n",
      "False\n",
      "True\n",
      "True\n"
     ]
    }
   ],
   "source": [
    "text = 'Python Progamming'\n",
    "\n",
    "print('Python' in text) # True, because Python exists in text\n",
    "print('p' in text) # False, because p (small) doesn't exist in text\n",
    "print('P' in text) # True\n",
    "\n",
    "print('p' not in text) # True, because p is not in the text"
   ]
  },
  {
   "cell_type": "code",
   "execution_count": null,
   "metadata": {
    "collapsed": true
   },
   "outputs": [],
   "source": []
  }
 ],
 "metadata": {
  "kernelspec": {
   "display_name": "Python 3",
   "language": "python",
   "name": "python3"
  },
  "language_info": {
   "codemirror_mode": {
    "name": "ipython",
    "version": 3
   },
   "file_extension": ".py",
   "mimetype": "text/x-python",
   "name": "python",
   "nbconvert_exporter": "python",
   "pygments_lexer": "ipython3",
   "version": "3.6.1"
  }
 },
 "nbformat": 4,
 "nbformat_minor": 2
}
