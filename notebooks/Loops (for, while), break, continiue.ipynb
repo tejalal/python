{
 "cells": [
  {
   "cell_type": "markdown",
   "id": "3b55903a",
   "metadata": {},
   "source": [
    "## For loop"
   ]
  },
  {
   "cell_type": "markdown",
   "id": "88b6d754",
   "metadata": {},
   "source": [
    "for iterable_var_name in range(terminating_value):\n",
    "    stmt 1\n",
    "    stmt 2\n",
    "    ...\n",
    "    \n",
    " for iterable_var_name in range(initial_value,terminating_value):\n",
    "    stmt 1\n",
    "    stmt 2\n",
    "    ...\n",
    "    \n",
    " for iterable_var_name in range(initial_value,terminating_value,updation):\n",
    "    stmt 1\n",
    "    stmt 2\n",
    "    ..."
   ]
  },
  {
   "cell_type": "markdown",
   "id": "f1105b1d",
   "metadata": {},
   "source": [
    "loop (for loop or while loop):\n",
    "    if(cond):\n",
    "        stmt\n",
    "        break\n",
    "    else:\n",
    "        stmt"
   ]
  },
  {
   "cell_type": "markdown",
   "id": "4c6a18db",
   "metadata": {},
   "source": [
    "loop (for loop or while loop):\n",
    "    if(cond):\n",
    "        stmt\n",
    "        continue\n",
    "    else:\n",
    "        stmt"
   ]
  },
  {
   "cell_type": "code",
   "execution_count": 3,
   "id": "240ef795",
   "metadata": {},
   "outputs": [
    {
     "name": "stdout",
     "output_type": "stream",
     "text": [
      "Enter number \n",
      "-4\n",
      "-3\n",
      "2\n",
      "5\n",
      "Positive Number : 2 \n",
      "Negative Number : 2 \n",
      "Zero Number : 0\n"
     ]
    }
   ],
   "source": [
    "# Count of postive, negative and 0\n",
    "n=10\n",
    "sum_p=0\n",
    "sum_n=0\n",
    "sum_z=0\n",
    "print(\"Enter number \")\n",
    "for i in range(4):\n",
    "    n=int(input())\n",
    "    if(n>0):\n",
    "        sum_p+=1\n",
    "    elif(n<0):\n",
    "        sum_n+=1\n",
    "    else:\n",
    "        sum_z+=1\n",
    "print(\"Positive Number :\",sum_p,\"\\nNegative Number :\",sum_n,\"\\nZero Number :\",sum_z)"
   ]
  },
  {
   "cell_type": "code",
   "execution_count": 4,
   "id": "0bce16bc",
   "metadata": {},
   "outputs": [
    {
     "name": "stdout",
     "output_type": "stream",
     "text": [
      "256\n"
     ]
    }
   ],
   "source": [
    "n=31\n",
    "series_sum=0\n",
    "for i in range(1,n+1,+2):\n",
    "    series_sum=series_sum+i\n",
    "print(series_sum)"
   ]
  },
  {
   "cell_type": "code",
   "execution_count": 5,
   "id": "1eeb431d",
   "metadata": {},
   "outputs": [
    {
     "name": "stdout",
     "output_type": "stream",
     "text": [
      "Enter value of n 3\n",
      "12\n",
      "10\n",
      "3\n",
      "Product of entered 3 numbers= 360\n"
     ]
    }
   ],
   "source": [
    "n=int(input('Enter value of n '))\n",
    "prod=1\n",
    "for i in range(n):\n",
    "    prod=prod*int(input())\n",
    "print('Product of entered',n,'numbers=',prod)"
   ]
  },
  {
   "cell_type": "code",
   "execution_count": 6,
   "id": "2d936c3b",
   "metadata": {},
   "outputs": [
    {
     "name": "stdout",
     "output_type": "stream",
     "text": [
      "Enter a number 5\n",
      "5 ! = 120\n"
     ]
    }
   ],
   "source": [
    "# Factorial\n",
    "n=int(input('Enter a number '))\n",
    "fact=1\n",
    "for i in range(n,1,-1):\n",
    "    fact=fact*i\n",
    "print(n,'! =',fact)"
   ]
  },
  {
   "cell_type": "markdown",
   "id": "cfd2a962",
   "metadata": {},
   "source": [
    "## Break and Continue"
   ]
  },
  {
   "cell_type": "code",
   "execution_count": 9,
   "id": "5e2f93e1",
   "metadata": {},
   "outputs": [
    {
     "name": "stdout",
     "output_type": "stream",
     "text": [
      "0\n",
      "1\n",
      "3\n"
     ]
    }
   ],
   "source": [
    "# Continue\n",
    "for i in range(0,5):\n",
    "    if(i==2 or i==4):\n",
    "        continue\n",
    "    else:\n",
    "        print(i)"
   ]
  },
  {
   "cell_type": "code",
   "execution_count": 10,
   "id": "68adbbca",
   "metadata": {},
   "outputs": [
    {
     "name": "stdout",
     "output_type": "stream",
     "text": [
      "Enter a number 5\n",
      "Prime\n"
     ]
    }
   ],
   "source": [
    "# Prime or not\n",
    "n=int(input('Enter a number '))\n",
    "temp=(n//2)+1\n",
    "status=1\n",
    "for i in range(2,temp):\n",
    "    if n%i==0:\n",
    "        status=0\n",
    "        break\n",
    "if status==1:\n",
    "    print('Prime')\n",
    "else:\n",
    "    print('Not prime')"
   ]
  },
  {
   "cell_type": "code",
   "execution_count": 12,
   "id": "b30ce409",
   "metadata": {},
   "outputs": [
    {
     "name": "stdout",
     "output_type": "stream",
     "text": [
      "1\n",
      "153\n",
      "370\n",
      "371\n",
      "407\n"
     ]
    }
   ],
   "source": [
    "# Armstrong number between 1 and 200\n",
    "for i in range(1,501):\n",
    "    digit1=i//100\n",
    "    digit2=i//10 - digit1*10\n",
    "    digit3=i%10\n",
    "    if(digit1**3 + digit2**3 + digit3**3 == i):\n",
    "        print(i)\n",
    "    i+=1"
   ]
  },
  {
   "cell_type": "markdown",
   "id": "46c028f9",
   "metadata": {},
   "source": [
    "## While loop"
   ]
  },
  {
   "cell_type": "markdown",
   "id": "e3ff3a44",
   "metadata": {},
   "source": [
    "initialization of loop variable\n",
    "while( condition ):\n",
    "    stmt 1\n",
    "    stmt 2\n",
    "    ...\n",
    "    update loop variable"
   ]
  },
  {
   "cell_type": "code",
   "execution_count": 1,
   "id": "f871f310",
   "metadata": {},
   "outputs": [
    {
     "name": "stdout",
     "output_type": "stream",
     "text": [
      "Sin 0ᵒ= 0.0\t\tCos 0ᵒ= 1.0\n",
      "Sin 30ᵒ= 0.5\t\tCos 30ᵒ= 0.9\n",
      "Sin 60ᵒ= 0.9\t\tCos 60ᵒ= 0.5\n",
      "Sin 90ᵒ= 1.0\t\tCos 90ᵒ= 0.0\n"
     ]
    }
   ],
   "source": [
    "#Write your code\n",
    "import math\n",
    "i=0\n",
    "while(i<=90):\n",
    "    print('Sin ',i,'ᵒ= ',format(math.sin(math.radians(i)),'0.1f'),sep='',end='\\t\\t')\n",
    "    print('Cos ',i,'ᵒ= ',format(math.cos(math.radians(i)),'0.1f'),sep='')\n",
    "    i+=30"
   ]
  },
  {
   "cell_type": "code",
   "execution_count": 2,
   "id": "afbc2abe",
   "metadata": {},
   "outputs": [
    {
     "name": "stdout",
     "output_type": "stream",
     "text": [
      "sum of even numbers=  90 \n",
      "sum of odd numbers=  100\n"
     ]
    }
   ],
   "source": [
    "#Write your code\n",
    "sumo=0\n",
    "sume=0\n",
    "i=0\n",
    "while (i<10):\n",
    "    sume=sume+(2*i)\n",
    "    sumo=sumo+(2*i)+1\n",
    "    i+=1\n",
    "print('sum of even numbers= ',sume,'\\nsum of odd numbers= ',sumo)"
   ]
  },
  {
   "cell_type": "code",
   "execution_count": 3,
   "id": "a537adb1",
   "metadata": {},
   "outputs": [
    {
     "name": "stdout",
     "output_type": "stream",
     "text": [
      "Enter number \n",
      "50\n",
      "Do you want to Continue(y/n)? \n",
      "y\n",
      "100\n",
      "Do you want to Continue(y/n)? \n",
      "n\n",
      "Maximum Number : 100\n"
     ]
    }
   ],
   "source": [
    "#Write your code\n",
    "max_no=0\n",
    "choice='y'\n",
    "print(\"Enter number \")\n",
    "while((choice=='y') | (choice=='Y')):  \n",
    "    n=int(input())\n",
    "    if(n>max_no):\n",
    "        max_no=n\n",
    "    print(\"Do you want to Continue(y/n)? \")\n",
    "    choice=input()\n",
    "print(\"Maximum Number :\",max_no)"
   ]
  },
  {
   "cell_type": "code",
   "execution_count": 4,
   "id": "bf73c0cc",
   "metadata": {},
   "outputs": [
    {
     "name": "stdout",
     "output_type": "stream",
     "text": [
      "*\n",
      "**\n",
      "***\n",
      "****\n",
      "*****\n"
     ]
    }
   ],
   "source": [
    "#Write your code here\n",
    "i=1\n",
    "while i<=5:\n",
    "    print(i*'*')\n",
    "    i+=1"
   ]
  },
  {
   "cell_type": "code",
   "execution_count": 5,
   "id": "59c123ac",
   "metadata": {},
   "outputs": [
    {
     "name": "stdout",
     "output_type": "stream",
     "text": [
      "         *          \n",
      "        ***         \n",
      "       *****        \n",
      "      *******       \n",
      "     *********      \n"
     ]
    }
   ],
   "source": [
    "#Write your code here\n",
    "i=1\n",
    "j=1\n",
    "while i<=5:\n",
    "    s=str(j*'*')\n",
    "    print(s.center(20))\n",
    "    i+=1\n",
    "    j+=2"
   ]
  },
  {
   "cell_type": "code",
   "execution_count": null,
   "id": "f3267b81",
   "metadata": {},
   "outputs": [],
   "source": []
  }
 ],
 "metadata": {
  "kernelspec": {
   "display_name": "Python 3",
   "language": "python",
   "name": "python3"
  },
  "language_info": {
   "codemirror_mode": {
    "name": "ipython",
    "version": 3
   },
   "file_extension": ".py",
   "mimetype": "text/x-python",
   "name": "python",
   "nbconvert_exporter": "python",
   "pygments_lexer": "ipython3",
   "version": "3.8.8"
  }
 },
 "nbformat": 4,
 "nbformat_minor": 5
}
