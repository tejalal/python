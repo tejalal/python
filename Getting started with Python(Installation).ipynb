{
 "cells": [
  {
   "cell_type": "markdown",
   "metadata": {},
   "source": [
    "# Getting started with Python (Installation)"
   ]
  },
  {
   "cell_type": "markdown",
   "metadata": {
    "collapsed": true
   },
   "source": [
    "- Python is an interpreted, object-oriented, high-level programming language with dynamic semantics.\n",
    "- Its high-level built in data structures, combined with dynamic typing and dynamic binding, make it very attractive for Rapid Application Development.\n",
    "- Python's simple, easy to learn syntax emphasizes readability and therefore reduces the cost of program maintenance.\n",
    "- Python supports modules and packages, which encourages program modularity and code reuse.\n",
    "- Since there is no compilation step, the edit-test-debug cycle is incredibly fast.\n"
   ]
  },
  {
   "cell_type": "markdown",
   "metadata": {
    "collapsed": true
   },
   "source": [
    "# Python Installation\n",
    "\n",
    "### Install Python using Anaconda on Windows\n",
    "\n",
    "- Download the latest version of Anaconda from here. Go to download folder and run the downloaded file by double clicking on it, Leave all the settings as default and follow on screen instructions to install the Anaconda, You may skip the installation of VS Code at the end.\n",
    "- If the installation of Anaconda is successful, Congratulation you have successfully installed the Python and Jupyter notebook on windows.\n",
    "- Run Anaconda prompt (Type Anaconda in search box/start menu) and type python – –version on Anaconda prompt to check the version of the python installed.\n",
    "- Open Jupyter notebook and start playing with Python. You can also program in python using any other editor like PyCharm, Spyder, VS Code, Sublime Text, notepad etc.\n",
    "\n",
    "#### Which libraries are already installed ??\n",
    "To see the list of packages/libraries which are already installed with anaconda you can run any of the below command in Anaconda prompt\n",
    "\n",
    "- pip freeze\n",
    "- conda list\n",
    "\n",
    "You will see that cython, numpy, scipy, pandas, scikit-learn, matplotlib, pillow, etc. already installed.\n",
    "\n",
    "#### Install other libraries (through anaconda prompt)\n",
    "Upgrade pip(optional): python -m pip install – – upgrade pip\n",
    "\n",
    "- KERAS: pip install keras\n",
    "- TENSOR FLOW: pip install tensorflow\n",
    "- OPEN-CV: pip install opencv-python"
   ]
  },
  {
   "cell_type": "code",
   "execution_count": null,
   "metadata": {
    "collapsed": true
   },
   "outputs": [],
   "source": []
  }
 ],
 "metadata": {
  "colab": {
   "default_view": {},
   "name": "Lab1 Notebook.ipynb",
   "provenance": [],
   "version": "0.3.2",
   "views": {}
  },
  "kernelspec": {
   "display_name": "Python 3",
   "language": "python",
   "name": "python3"
  },
  "language_info": {
   "codemirror_mode": {
    "name": "ipython",
    "version": 3
   },
   "file_extension": ".py",
   "mimetype": "text/x-python",
   "name": "python",
   "nbconvert_exporter": "python",
   "pygments_lexer": "ipython3",
   "version": "3.6.1"
  }
 },
 "nbformat": 4,
 "nbformat_minor": 1
}
