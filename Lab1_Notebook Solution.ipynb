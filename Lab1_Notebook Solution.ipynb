{
 "cells": [
  {
   "cell_type": "markdown",
   "metadata": {},
   "source": [
    "# LAB 1 ASSIGNMENT SOLUTION: Program Basics"
   ]
  },
  {
   "cell_type": "markdown",
   "metadata": {
    "colab_type": "text",
    "id": "CzYaWy7gcfN-"
   },
   "source": [
    "### Problem 1: WAP to print  \"HELLO PYTHON !\""
   ]
  },
  {
   "cell_type": "code",
   "execution_count": 2,
   "metadata": {
    "colab": {
     "autoexec": {
      "startup": false,
      "wait_interval": 0
     }
    },
    "colab_type": "code",
    "id": "7sG2pSrdcfN_",
    "scrolled": false
   },
   "outputs": [
    {
     "name": "stdout",
     "output_type": "stream",
     "text": [
      "HELLO PYTHON !\n"
     ]
    }
   ],
   "source": [
    "# write your code after this line\n",
    "print(\"HELLO PYTHON !\")"
   ]
  },
  {
   "cell_type": "markdown",
   "metadata": {
    "colab_type": "text",
    "id": "ck-2rEF4cfOC"
   },
   "source": [
    "### Problem 2: run the below code and try to make some changes"
   ]
  },
  {
   "cell_type": "code",
   "execution_count": 3,
   "metadata": {
    "colab": {
     "autoexec": {
      "startup": false,
      "wait_interval": 0
     }
    },
    "colab_type": "code",
    "id": "Y0tRnGsQcfOD"
   },
   "outputs": [
    {
     "name": "stdout",
     "output_type": "stream",
     "text": [
      "I am from INDIA\n",
      "I love INDIA\n",
      "I love INDIA\n",
      "My state name is : MP\n"
     ]
    }
   ],
   "source": [
    "print('I am from INDIA')\n",
    "print(\"I love INDIA\")\n",
    "print(\"I love \"+ 'INDIA')\n",
    "print(\"My state name is : \"+ \"MP\")"
   ]
  },
  {
   "cell_type": "markdown",
   "metadata": {
    "colab_type": "text",
    "id": "FtY6brB4cfOG"
   },
   "source": [
    "### Problem 3 \n",
    "#### Task1: run the below code and try to make some changes to the program"
   ]
  },
  {
   "cell_type": "code",
   "execution_count": 4,
   "metadata": {
    "colab": {
     "autoexec": {
      "startup": false,
      "wait_interval": 0
     }
    },
    "colab_type": "code",
    "id": "QJyZcQ3VcfOH"
   },
   "outputs": [
    {
     "name": "stdout",
     "output_type": "stream",
     "text": [
      "I am from INDIA\n",
      "I love INDIA\n",
      "I love INDIA\n",
      "My state name is : MP\n",
      "Sachin is 18 year old\n",
      "Yeah me too.!\n"
     ]
    }
   ],
   "source": [
    "country='INDIA'\n",
    "state=\"MP\"\n",
    "age=18\n",
    "name=\"Sachin\"\n",
    "\n",
    "print('I am from', country)\n",
    "print('I love '+ country)\n",
    "print(\"I love \"+ country)\n",
    "print(\"My state name is : \"+ state)\n",
    "\n",
    "print(name, 'is', age, 'year old')\n",
    "print(\"Yeah me too.!\")"
   ]
  },
  {
   "cell_type": "markdown",
   "metadata": {
    "colab_type": "text",
    "id": "2w4vNRIrcfOK"
   },
   "source": [
    "#### Task2: WAP to display your infomation like (full name, branch, university name, age, 12th %, hobbies). Store each value into some meaningful variable.  the ouptput of the program should look like"
   ]
  },
  {
   "cell_type": "raw",
   "metadata": {
    "colab_type": "raw",
    "id": "hnveJccYcfOL"
   },
   "source": [
    "My name is :\n",
    "I am in CSE branch at Bennett University \n",
    "I am 18 year old  \n",
    "My Higehr Secondary % is :\n",
    "My hobbies are : "
   ]
  },
  {
   "cell_type": "code",
   "execution_count": 7,
   "metadata": {
    "colab": {
     "autoexec": {
      "startup": false,
      "wait_interval": 0
     }
    },
    "colab_type": "code",
    "id": "eGTWJHDicfOM"
   },
   "outputs": [
    {
     "name": "stdout",
     "output_type": "stream",
     "text": [
      "My name is : Prashant Kumar\n",
      "I am in CSE  branch at  Bennett University\n",
      "I am  18  year old\n",
      "My Higer Secondary % is: 74\n",
      "My hobbies are : Cricekt, Music, Python Programming\n"
     ]
    }
   ],
   "source": [
    "# write your code after this line\n",
    "\n",
    "fullname='Prashant Kumar'\n",
    "branch=\"CSE\"\n",
    "university=\"Bennett University\"\n",
    "age=18\n",
    "hs_percentage=74\n",
    "hobbies='Cricekt, Music, Python Programming'\n",
    "\n",
    "print(\"My name is :\",fullname)\n",
    "print(\"I am in\",branch, \" branch at \", university)\n",
    "print(\"I am \",age, \" year old\")\n",
    "print(\"My Higer Secondary % is:\",hs_percentage)\n",
    "print(\"My hobbies are :\",hobbies)\n"
   ]
  },
  {
   "cell_type": "markdown",
   "metadata": {
    "colab_type": "text",
    "id": "vclGyZbZcfOP"
   },
   "source": [
    "### Problem 4: WAP to perform arithmetic operations (Addition, Subtraction, Multiplication, Division) on 2 integer numbers. Th output of the program should look like"
   ]
  },
  {
   "cell_type": "raw",
   "metadata": {
    "colab_type": "raw",
    "id": "JWXZHrlwcfOQ"
   },
   "source": [
    "First number =  \n",
    "Second number = \n",
    "Addition :  \n",
    "Subtraction :  \n",
    "Multiplication :  \n",
    "Division :  "
   ]
  },
  {
   "cell_type": "code",
   "execution_count": 9,
   "metadata": {
    "colab": {
     "autoexec": {
      "startup": false,
      "wait_interval": 0
     }
    },
    "colab_type": "code",
    "id": "wArpl58_cfOQ"
   },
   "outputs": [
    {
     "name": "stdout",
     "output_type": "stream",
     "text": [
      "First number =  20\n",
      "Second number =  10\n",
      "Addition 30\n",
      "Subtraction =  10\n",
      "Multiplication =  200\n",
      "Division =  2.0\n"
     ]
    }
   ],
   "source": [
    "number1=20\n",
    "number2=10\n",
    "\n",
    "# write your code after this line\n",
    "\n",
    "addition=number1+number2\n",
    "subtraction=number1-number2\n",
    "multiplication=number1*number2\n",
    "division=number1/number2\n",
    "\n",
    "print(\"First number = \", number1)\n",
    "print(\"Second number = \", number2)\n",
    "print(\"Addition\", addition)\n",
    "print(\"Subtraction = \", subtraction)\n",
    "print(\"Multiplication = \", multiplication)\n",
    "print(\"Division = \", division)"
   ]
  },
  {
   "cell_type": "markdown",
   "metadata": {
    "colab_type": "text",
    "id": "P07eBi4KcfOU"
   },
   "source": [
    "### Problem 5: \n",
    "#### Task1: run the below code"
   ]
  },
  {
   "cell_type": "code",
   "execution_count": 10,
   "metadata": {
    "colab": {
     "autoexec": {
      "startup": false,
      "wait_interval": 0
     }
    },
    "colab_type": "code",
    "id": "xLI1U8RJcfOU"
   },
   "outputs": [
    {
     "name": "stdout",
     "output_type": "stream",
     "text": [
      "Enter your first name: Prashant\n",
      "Enter your second name: Kumar\n",
      "Enter your semester: 5\n",
      "Hello friends my name is  Prashant Kumar  and I am in  5 semester\n"
     ]
    }
   ],
   "source": [
    "firstname=input(\"Enter your first name: \")\n",
    "lastname=input(\"Enter your second name: \")\n",
    "semester=input(\"Enter your semester: \")\n",
    "fullname=firstname + \" \" +lastname\n",
    "print(\"Hello friends my name is \",fullname, \" and I am in \", semester, \"semester\")"
   ]
  },
  {
   "cell_type": "markdown",
   "metadata": {
    "colab_type": "text",
    "id": "AJSWrElpcfOZ"
   },
   "source": [
    "### Problem 6 : WAP to swap the contents of two variables (highest_temp, lowest_temp). The output of the program should look like.\n"
   ]
  },
  {
   "cell_type": "raw",
   "metadata": {
    "colab_type": "raw",
    "id": "fVL5tp7XcfOa"
   },
   "source": [
    "Yesterday's temperature before swapping :\n",
    "highest temperature : \n",
    "lowest temperature : \n",
    "\n",
    "Yesterday's temperature after swapping :\n",
    "highest temperature : \n",
    "lowest temperature : "
   ]
  },
  {
   "cell_type": "code",
   "execution_count": 15,
   "metadata": {
    "colab": {
     "autoexec": {
      "startup": false,
      "wait_interval": 0
     }
    },
    "colab_type": "code",
    "id": "u04a0hQXcfOa"
   },
   "outputs": [
    {
     "name": "stdout",
     "output_type": "stream",
     "text": [
      "Yesterday's temperature before swapping : \n",
      "highest temperature :  40.5\n",
      "lowest temperature :  11.8\n",
      "\n",
      "\n",
      "Yesterday's temperature after swapping : \n",
      "highest temperature :  11.8\n",
      "lowest temperature :  40.5\n"
     ]
    }
   ],
   "source": [
    "highest_temp=40.5\n",
    "lowest_temp=11.8\n",
    "# write your code after this line ...\n",
    "\n",
    "print(\"Yesterday's temperature before swapping : \")\n",
    "print(\"highest temperature : \", highest_temp)\n",
    "print(\"lowest temperature : \", lowest_temp)\n",
    "print(\"\\n\")\n",
    "\n",
    "temp=highest_temp\n",
    "highest_temp=lowest_temp\n",
    "lowest_temp=temp\n",
    "\n",
    "print(\"Yesterday's temperature after swapping : \")\n",
    "print(\"highest temperature : \", highest_temp)\n",
    "print(\"lowest temperature : \", lowest_temp)\n"
   ]
  },
  {
   "cell_type": "markdown",
   "metadata": {
    "colab_type": "text",
    "id": "ei6J38xOcfOd"
   },
   "source": [
    "### Problem 7 : The wheel of a bullock cart has a radius of 6 m. If the wheel rotates once, WAP to determine how much distance does the cart move?   "
   ]
  },
  {
   "cell_type": "code",
   "execution_count": 19,
   "metadata": {
    "colab": {
     "autoexec": {
      "startup": false,
      "wait_interval": 0
     }
    },
    "colab_type": "code",
    "id": "EJWEn5P4cfOd"
   },
   "outputs": [
    {
     "name": "stdout",
     "output_type": "stream",
     "text": [
      "Distance moved by the cars is :  37.68 meter\n"
     ]
    }
   ],
   "source": [
    "# write your code after this line\n",
    "\n",
    "radius=6\n",
    "pi=3.14\n",
    "distance_moved= 2 * pi *radius\n",
    "\n",
    "print(\"Distance moved by the cars is : \", distance_moved, \"meter\")"
   ]
  },
  {
   "cell_type": "markdown",
   "metadata": {
    "colab_type": "text",
    "id": "WqpIS574cfOf"
   },
   "source": [
    "### Problem 8 : WAP to evaluate the expression: 5x^2 + 10x + 5 and print the result. Take x=10, x=20, x=15"
   ]
  },
  {
   "cell_type": "code",
   "execution_count": 34,
   "metadata": {
    "colab": {
     "autoexec": {
      "startup": false,
      "wait_interval": 0
     }
    },
    "colab_type": "code",
    "id": "7j5pPawrcfOg"
   },
   "outputs": [
    {
     "name": "stdout",
     "output_type": "stream",
     "text": [
      "Value of result =  605\n",
      "Value of result =  1280\n",
      "Value of result =  2205\n"
     ]
    }
   ],
   "source": [
    "# write your code after this line\n",
    "\n",
    "x=10\n",
    "result=5*x*x+10*x+5\n",
    "print(\"Value of result = \", result)\n",
    "\n",
    "x=15\n",
    "t1=x*x\n",
    "t2=5*t1\n",
    "t3=10*x\n",
    "result=t2+t3+5\n",
    "print(\"Value of result = \", result)\n",
    "\n",
    "x=20\n",
    "result=5*pow(x,2)+10*x+5\n",
    "print(\"Value of result = \", result)\n"
   ]
  },
  {
   "cell_type": "markdown",
   "metadata": {
    "colab_type": "text",
    "id": "bYbNt3tQcfOj"
   },
   "source": [
    "### Problem 9 : Assume Sachin’s basic salary is 10 Lakh. His dearness allowance(DA) is 40% of basic salary, and house rent allowance(HRA) is 20% of basic salary. Write a program to calculate his gross salary. The output of the progam should look like."
   ]
  },
  {
   "cell_type": "raw",
   "metadata": {},
   "source": [
    "Basic Salary :\n",
    "Dearness Allowance(DA)  :\n",
    "House Rent Allowance(HRA) :\n",
    "Gross Salary :"
   ]
  },
  {
   "cell_type": "code",
   "execution_count": 51,
   "metadata": {
    "colab": {
     "autoexec": {
      "startup": false,
      "wait_interval": 0
     }
    },
    "colab_type": "code",
    "id": "qGVyJALqcfOk"
   },
   "outputs": [
    {
     "name": "stdout",
     "output_type": "stream",
     "text": [
      "Basic Salary : 1000000.0\n",
      "Dearness Allowance(DA)  :  400000.0\n",
      "Dearness Allowance(DA)  :  200000.0\n",
      "Gross Salary  :  1600000.0\n"
     ]
    }
   ],
   "source": [
    "# write your code after this line\n",
    "\n",
    "basic=1000000.0\n",
    "DA=.4*basic\n",
    "HRA=.2*basic\n",
    "\n",
    "gross_salary=DA+HRA+basic\n",
    "\n",
    "print(\"Basic Salary :\", basic)\n",
    "print(\"Dearness Allowance(DA)  : \", DA)\n",
    "print(\"Dearness Allowance(DA)  : \", HRA)\n",
    "print(\"Gross Salary  : \", gross_salary)"
   ]
  },
  {
   "cell_type": "markdown",
   "metadata": {
    "colab_type": "text",
    "id": "Gi9VMcjCcfOm"
   },
   "source": [
    "### Problem 10 : A cashier has currency notes of denominations 10, 50 and 100. find the total number of currency notes of each denomination the cashier will have to give to the withdrawer. The output of the program should look like. Take some example to test your program."
   ]
  },
  {
   "cell_type": "raw",
   "metadata": {
    "colab_type": "raw",
    "id": "O_9_5QmTcfOn"
   },
   "source": [
    "Required notes of Rs. 100:\n",
    "Required notes of Rs. 50:\n",
    "Required notes of Rs. 10:"
   ]
  },
  {
   "cell_type": "code",
   "execution_count": 3,
   "metadata": {
    "colab": {
     "autoexec": {
      "startup": false,
      "wait_interval": 0
     }
    },
    "colab_type": "code",
    "id": "7qAlMz35cfOo"
   },
   "outputs": [
    {
     "name": "stdout",
     "output_type": "stream",
     "text": [
      "Amount to be withdrawn  : 1060\n",
      "Required notes of Rs. 100  : 10\n",
      "Required notes of Rs. 50 : 1\n",
      "Required notes of Rs. 10 : 1\n"
     ]
    }
   ],
   "source": [
    "# write your code after this line\n",
    "\n",
    "amount_withdrawn=1060\n",
    "\n",
    "hundred=amount_withdrawn//100\n",
    "print(\"Amount to be withdrawn  :\", amount_withdrawn)\n",
    "print(\"Required notes of Rs. 100  :\", hundred)\n",
    "   \n",
    "remaining_amount= amount_withdrawn%100\n",
    "\n",
    "fifty=remaining_amount//50\n",
    "print(\"Required notes of Rs. 50 :\", fifty)\n",
    "\n",
    "remaining_amount= remaining_amount%50\n",
    "\n",
    "ten=remaining_amount//10\n",
    "print(\"Required notes of Rs. 10 :\", ten)\n"
   ]
  },
  {
   "cell_type": "code",
   "execution_count": null,
   "metadata": {
    "collapsed": true
   },
   "outputs": [],
   "source": []
  }
 ],
 "metadata": {
  "colab": {
   "default_view": {},
   "name": "Lab1 Notebook.ipynb",
   "provenance": [],
   "version": "0.3.2",
   "views": {}
  },
  "kernelspec": {
   "display_name": "Python 3",
   "language": "python",
   "name": "python3"
  },
  "language_info": {
   "codemirror_mode": {
    "name": "ipython",
    "version": 3
   },
   "file_extension": ".py",
   "mimetype": "text/x-python",
   "name": "python",
   "nbconvert_exporter": "python",
   "pygments_lexer": "ipython3",
   "version": "3.6.1"
  }
 },
 "nbformat": 4,
 "nbformat_minor": 1
}
