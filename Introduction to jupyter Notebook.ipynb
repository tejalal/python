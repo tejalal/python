{
 "cells": [
  {
   "cell_type": "markdown",
   "metadata": {
    "collapsed": true
   },
   "source": [
    "# Introduction to Jupyter Notebook"
   ]
  },
  {
   "cell_type": "markdown",
   "metadata": {},
   "source": [
    "## The Jupyter Notebook\n",
    "- The Jupyter Notebook is an open-source web application that allows you to create and share documents that contain live code, equations, visualizations and narrative text. \n",
    "- Uses include: data cleaning and transformation, numerical simulation, statistical modeling, data visualization, machine learning, and much more.\n",
    "- Python Programs can be created in Jupyter Notebook"
   ]
  },
  {
   "cell_type": "markdown",
   "metadata": {},
   "source": [
    "## How to open Jupyter Notebook\n",
    "#### Windows:\n",
    "- Open Anaconda Prompt (Go to start and type Anaconda) and type \"jupyter notebook\" and press enter\n",
    "\n",
    "#### Linix(Ubuntu):\n"
   ]
  },
  {
   "attachments": {},
   "cell_type": "markdown",
   "metadata": {
    "collapsed": true
   },
   "source": [
    "When you open Jupyter for the first time it will look like\n",
    "<img src=\"images/Jupyter1.png\" alt=\"Jupyter\">"
   ]
  },
  {
   "attachments": {},
   "cell_type": "markdown",
   "metadata": {},
   "source": [
    "## Creating a new Notebook file\n",
    "\n",
    "To create new Python file click on new button and select Python 3 as shown below\n",
    "<img src=\"images/Jupyter2.png\" alt=\"Jupyter\">"
   ]
  },
  {
   "attachments": {},
   "cell_type": "markdown",
   "metadata": {},
   "source": [
    "Your newly opened Python Notebook will look like:\n",
    "\n",
    "<img src=\"images/Jupyter3.png\" alt=\"Jupyter\">"
   ]
  },
  {
   "cell_type": "markdown",
   "metadata": {},
   "source": [
    "### Points to remember about Python Jupyter Notebook"
   ]
  },
  {
   "cell_type": "markdown",
   "metadata": {},
   "source": [
    "- A Notebook can have many cells\n",
    "- We write Python code inside the cells\n",
    "- One Python program can be split over multiple cells in Notebook\n",
    "- We can add another cell by clicking on the + (plus) button.\n",
    "- We can delete, rearrange the order of the cells\n",
    "- To run any python code written into the cell just press Shift+Enter or Control+Enter OR\n",
    "- We can also click on the run button next to the down arrow\n",
    "- We can restart or interrupt the Python Kernel by going to the Kernel menu"
   ]
  },
  {
   "cell_type": "markdown",
   "metadata": {},
   "source": [
    "#### Here is the short description with image to beter understand the Jupyter environment\n"
   ]
  },
  {
   "attachments": {},
   "cell_type": "markdown",
   "metadata": {},
   "source": [
    "<img src=\"images/Jupyter5.png\" alt=\"Jupyter\">"
   ]
  },
  {
   "cell_type": "markdown",
   "metadata": {},
   "source": [
    "## Cell Type:\n",
    "The Notebook can have several types of cells\n",
    "\n",
    "### Code\n",
    "Cell type should be code when writing Python code, It can be seen from above images that the default cell type is code.\n",
    "### Markdown\n",
    "- Cell type should be Markdown when we do not want Python Interpreter to treat our content as a Python code.\n",
    "- Generally it is used for documentation, If cell type is Markdown then it will be treated as a normal text\n",
    "- We can use several formatting to decorate and organize out content in Markdown\n",
    "- The example of markdown is shown below\n"
   ]
  },
  {
   "attachments": {},
   "cell_type": "markdown",
   "metadata": {
    "collapsed": true
   },
   "source": [
    "<img src=\"images/Jupyter6.png\" alt=\"Jupyter\">"
   ]
  },
  {
   "attachments": {},
   "cell_type": "markdown",
   "metadata": {},
   "source": [
    "When you run above cell the content will look like\n",
    "<img src=\"images/Jupyter7.png\" alt=\"Jupyter\">"
   ]
  },
  {
   "cell_type": "markdown",
   "metadata": {},
   "source": [
    "### We can have many Code and Markdown cells in Notebook in any order we want.\n",
    "### This page content has been created in Jupyter Notebook using different Markdown cells"
   ]
  },
  {
   "cell_type": "code",
   "execution_count": null,
   "metadata": {
    "collapsed": true,
    "scrolled": true
   },
   "outputs": [],
   "source": []
  },
  {
   "cell_type": "code",
   "execution_count": null,
   "metadata": {
    "collapsed": true
   },
   "outputs": [],
   "source": []
  }
 ],
 "metadata": {
  "kernelspec": {
   "display_name": "Python 3",
   "language": "python",
   "name": "python3"
  },
  "language_info": {
   "codemirror_mode": {
    "name": "ipython",
    "version": 3
   },
   "file_extension": ".py",
   "mimetype": "text/x-python",
   "name": "python",
   "nbconvert_exporter": "python",
   "pygments_lexer": "ipython3",
   "version": "3.6.1"
  }
 },
 "nbformat": 4,
 "nbformat_minor": 2
}
